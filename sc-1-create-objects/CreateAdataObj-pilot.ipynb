{
 "cells": [
  {
   "cell_type": "code",
   "execution_count": 1,
   "id": "a7d47c3e-f368-40be-890e-c14cc63a9191",
   "metadata": {},
   "outputs": [],
   "source": [
    "import pandas as pd\n",
    "from pathlib import Path\n",
    "import json"
   ]
  },
  {
   "cell_type": "code",
   "execution_count": 2,
   "id": "fe97d5f0-80d8-4ef9-8705-e5c3a3b9da7a",
   "metadata": {},
   "outputs": [],
   "source": [
    "import numpy as np\n",
    "import seaborn as sns\n",
    "import matplotlib.pyplot as plt"
   ]
  },
  {
   "cell_type": "code",
   "execution_count": 3,
   "id": "8449ff28-582f-429e-9efa-c81d9cffff7a",
   "metadata": {},
   "outputs": [
    {
     "name": "stderr",
     "output_type": "stream",
     "text": [
      "/opt/tljh/user/envs/jake_sc_eda/lib/python3.10/site-packages/anndata/experimental/pytorch/_annloader.py:18: UserWarning: Сould not load pytorch.\n",
      "  warnings.warn(\"Сould not load pytorch.\")\n"
     ]
    }
   ],
   "source": [
    "import re\n",
    "import dask.dataframe as dd\n",
    "import anndata as ad\n",
    "from anndata import AnnData\n",
    "#import relation_data_lake as rdl\n",
    "import scipy.sparse as sp\n",
    "import scanpy as sc"
   ]
  },
  {
   "cell_type": "code",
   "execution_count": 4,
   "id": "374eb39c-474b-4340-aacd-4b9a23b112ec",
   "metadata": {},
   "outputs": [],
   "source": [
    "sns.set(rc={'figure.figsize':(11.7,8.27)})\n"
   ]
  },
  {
   "cell_type": "code",
   "execution_count": 5,
   "id": "f154f846-42a4-49dc-aa74-984ea722475f",
   "metadata": {},
   "outputs": [],
   "source": [
    "local_root_dir = Path('/home/jupyter-jake/SharedData/collaborations/lara-fibroblast-mouse/reseqFibro2/')\n",
    "fibro_processed_folders=[\n",
    "    'Activated_OP1L_NM_NA_Rep1/outs',\n",
    "    'Activated_OP1L_NM_NA_Rep2/outs',\n",
    "    'Quiescent_OP1L_NM_NA_Rep1/outs',\n",
    "    'Quiescent_OP1L_NM_NA_Rep2/outs',\n",
    "]"
   ]
  },
  {
   "cell_type": "code",
   "execution_count": 6,
   "id": "11c91c3e-11ac-4211-b5ac-b9206fb493f2",
   "metadata": {},
   "outputs": [],
   "source": [
    "cell2guides = []\n",
    "for fibro_processed_folder in fibro_processed_folders:\n",
    "    f_path = (local_root_dir / fibro_processed_folder / 'crispr_analysis/protospacer_calls_per_cell.csv')\n",
    "    cell2guide = pd.read_csv(f_path, index_col='cell_barcode').drop(columns = ['num_features'])\n",
    "    cell2guide = cell2guide.apply(lambda col: col.str.split('|'))\n",
    "    cell2guide = cell2guide.apply(pd.Series.explode)\n",
    "    cell2guide = cell2guide.pivot(columns='feature_call', values='num_umis').fillna(0)\n",
    "    cell2guide.index = cell2guide.index + '-' + fibro_processed_folder.split('/')[0]\n",
    "    #print(cell2guide.columns)\n",
    "    cell2guides.append(cell2guide)"
   ]
  },
  {
   "cell_type": "code",
   "execution_count": 7,
   "id": "d3a63f23-0e1c-455c-9caf-2a15b15f98aa",
   "metadata": {},
   "outputs": [],
   "source": [
    "cell2guides = pd.concat(cell2guides) # .astype(int)\n",
    "cell2guides[pd.isna(cell2guides)] = 0\n",
    "cell2guides = cell2guides.astype(int)\n",
    "counts_matrix = cell2guides.copy()"
   ]
  },
  {
   "cell_type": "code",
   "execution_count": null,
   "id": "baba38e5-e9a1-4126-b02c-15238c707808",
   "metadata": {},
   "outputs": [],
   "source": []
  },
  {
   "cell_type": "markdown",
   "id": "ddf84540-b419-4cd5-8127-41559c38357a",
   "metadata": {},
   "source": [
    "# Step 1: Filter low expressed counts that represent only a small fraction of total counts."
   ]
  },
  {
   "cell_type": "code",
   "execution_count": 8,
   "id": "5d349e81-bacf-4b30-a1b2-3641d1db3914",
   "metadata": {},
   "outputs": [
    {
     "name": "stderr",
     "output_type": "stream",
     "text": [
      "/tmp/ipykernel_2555848/5835236.py:10: RuntimeWarning: divide by zero encountered in log10\n",
      "  'log_sgRNA_counts': np.log10( np.ravel(counts_matrix.values.T) )\n"
     ]
    },
    {
     "data": {
      "text/html": [
       "<div>\n",
       "<style scoped>\n",
       "    .dataframe tbody tr th:only-of-type {\n",
       "        vertical-align: middle;\n",
       "    }\n",
       "\n",
       "    .dataframe tbody tr th {\n",
       "        vertical-align: top;\n",
       "    }\n",
       "\n",
       "    .dataframe thead th {\n",
       "        text-align: right;\n",
       "    }\n",
       "</style>\n",
       "<table border=\"1\" class=\"dataframe\">\n",
       "  <thead>\n",
       "    <tr style=\"text-align: right;\">\n",
       "      <th></th>\n",
       "      <th>cell_id</th>\n",
       "      <th>total_counts</th>\n",
       "      <th>log_total_counts</th>\n",
       "      <th>freq</th>\n",
       "      <th>log_freq</th>\n",
       "      <th>sgRNA_counts</th>\n",
       "      <th>log_sgRNA_counts</th>\n",
       "    </tr>\n",
       "  </thead>\n",
       "  <tbody>\n",
       "    <tr>\n",
       "      <th>0</th>\n",
       "      <td>AAACCCAAGAATCGTA-1-Activated_OP1L_NM_NA_Rep1</td>\n",
       "      <td>150</td>\n",
       "      <td>2.176091</td>\n",
       "      <td>0.0</td>\n",
       "      <td>0.0</td>\n",
       "      <td>0</td>\n",
       "      <td>-inf</td>\n",
       "    </tr>\n",
       "    <tr>\n",
       "      <th>1</th>\n",
       "      <td>AAACCCAAGAGGATCC-1-Activated_OP1L_NM_NA_Rep1</td>\n",
       "      <td>240</td>\n",
       "      <td>2.380211</td>\n",
       "      <td>0.0</td>\n",
       "      <td>0.0</td>\n",
       "      <td>0</td>\n",
       "      <td>-inf</td>\n",
       "    </tr>\n",
       "    <tr>\n",
       "      <th>2</th>\n",
       "      <td>AAACCCAAGATAACGT-1-Activated_OP1L_NM_NA_Rep1</td>\n",
       "      <td>197</td>\n",
       "      <td>2.294466</td>\n",
       "      <td>0.0</td>\n",
       "      <td>0.0</td>\n",
       "      <td>0</td>\n",
       "      <td>-inf</td>\n",
       "    </tr>\n",
       "    <tr>\n",
       "      <th>3</th>\n",
       "      <td>AAACCCAAGATCCCAT-1-Activated_OP1L_NM_NA_Rep1</td>\n",
       "      <td>80</td>\n",
       "      <td>1.903090</td>\n",
       "      <td>0.0</td>\n",
       "      <td>0.0</td>\n",
       "      <td>0</td>\n",
       "      <td>-inf</td>\n",
       "    </tr>\n",
       "    <tr>\n",
       "      <th>4</th>\n",
       "      <td>AAACCCACAGATCCAT-1-Activated_OP1L_NM_NA_Rep1</td>\n",
       "      <td>27</td>\n",
       "      <td>1.431364</td>\n",
       "      <td>0.0</td>\n",
       "      <td>0.0</td>\n",
       "      <td>0</td>\n",
       "      <td>-inf</td>\n",
       "    </tr>\n",
       "    <tr>\n",
       "      <th>...</th>\n",
       "      <td>...</td>\n",
       "      <td>...</td>\n",
       "      <td>...</td>\n",
       "      <td>...</td>\n",
       "      <td>...</td>\n",
       "      <td>...</td>\n",
       "      <td>...</td>\n",
       "    </tr>\n",
       "    <tr>\n",
       "      <th>439225</th>\n",
       "      <td>TTTGGTTCATCGGATT-1-Quiescent_OP1L_NM_NA_Rep2</td>\n",
       "      <td>35</td>\n",
       "      <td>1.544068</td>\n",
       "      <td>0.0</td>\n",
       "      <td>0.0</td>\n",
       "      <td>0</td>\n",
       "      <td>-inf</td>\n",
       "    </tr>\n",
       "    <tr>\n",
       "      <th>439226</th>\n",
       "      <td>TTTGGTTGTCTGGTTA-1-Quiescent_OP1L_NM_NA_Rep2</td>\n",
       "      <td>556</td>\n",
       "      <td>2.745075</td>\n",
       "      <td>0.0</td>\n",
       "      <td>0.0</td>\n",
       "      <td>0</td>\n",
       "      <td>-inf</td>\n",
       "    </tr>\n",
       "    <tr>\n",
       "      <th>439227</th>\n",
       "      <td>TTTGTTGCATCAACCA-1-Quiescent_OP1L_NM_NA_Rep2</td>\n",
       "      <td>91</td>\n",
       "      <td>1.959041</td>\n",
       "      <td>0.0</td>\n",
       "      <td>0.0</td>\n",
       "      <td>0</td>\n",
       "      <td>-inf</td>\n",
       "    </tr>\n",
       "    <tr>\n",
       "      <th>439228</th>\n",
       "      <td>TTTGTTGGTCGCAACC-1-Quiescent_OP1L_NM_NA_Rep2</td>\n",
       "      <td>44</td>\n",
       "      <td>1.643453</td>\n",
       "      <td>0.0</td>\n",
       "      <td>0.0</td>\n",
       "      <td>0</td>\n",
       "      <td>-inf</td>\n",
       "    </tr>\n",
       "    <tr>\n",
       "      <th>439229</th>\n",
       "      <td>TTTGTTGTCTACGCGG-1-Quiescent_OP1L_NM_NA_Rep2</td>\n",
       "      <td>117</td>\n",
       "      <td>2.068186</td>\n",
       "      <td>0.0</td>\n",
       "      <td>0.0</td>\n",
       "      <td>0</td>\n",
       "      <td>-inf</td>\n",
       "    </tr>\n",
       "  </tbody>\n",
       "</table>\n",
       "<p>439230 rows × 7 columns</p>\n",
       "</div>"
      ],
      "text/plain": [
       "                                             cell_id  total_counts  \\\n",
       "0       AAACCCAAGAATCGTA-1-Activated_OP1L_NM_NA_Rep1           150   \n",
       "1       AAACCCAAGAGGATCC-1-Activated_OP1L_NM_NA_Rep1           240   \n",
       "2       AAACCCAAGATAACGT-1-Activated_OP1L_NM_NA_Rep1           197   \n",
       "3       AAACCCAAGATCCCAT-1-Activated_OP1L_NM_NA_Rep1            80   \n",
       "4       AAACCCACAGATCCAT-1-Activated_OP1L_NM_NA_Rep1            27   \n",
       "...                                              ...           ...   \n",
       "439225  TTTGGTTCATCGGATT-1-Quiescent_OP1L_NM_NA_Rep2            35   \n",
       "439226  TTTGGTTGTCTGGTTA-1-Quiescent_OP1L_NM_NA_Rep2           556   \n",
       "439227  TTTGTTGCATCAACCA-1-Quiescent_OP1L_NM_NA_Rep2            91   \n",
       "439228  TTTGTTGGTCGCAACC-1-Quiescent_OP1L_NM_NA_Rep2            44   \n",
       "439229  TTTGTTGTCTACGCGG-1-Quiescent_OP1L_NM_NA_Rep2           117   \n",
       "\n",
       "        log_total_counts  freq  log_freq  sgRNA_counts  log_sgRNA_counts  \n",
       "0               2.176091   0.0       0.0             0              -inf  \n",
       "1               2.380211   0.0       0.0             0              -inf  \n",
       "2               2.294466   0.0       0.0             0              -inf  \n",
       "3               1.903090   0.0       0.0             0              -inf  \n",
       "4               1.431364   0.0       0.0             0              -inf  \n",
       "...                  ...   ...       ...           ...               ...  \n",
       "439225          1.544068   0.0       0.0             0              -inf  \n",
       "439226          2.745075   0.0       0.0             0              -inf  \n",
       "439227          1.959041   0.0       0.0             0              -inf  \n",
       "439228          1.643453   0.0       0.0             0              -inf  \n",
       "439229          2.068186   0.0       0.0             0              -inf  \n",
       "\n",
       "[439230 rows x 7 columns]"
      ]
     },
     "execution_count": 8,
     "metadata": {},
     "output_type": "execute_result"
    }
   ],
   "source": [
    "freq_matrix = counts_matrix / counts_matrix.sum(axis=1).values[:,None] \n",
    "log_freq_matrix = np.log10( 1 + counts_matrix ) / np.log10(1 + counts_matrix.sum(axis=1).values[:,None] ) \n",
    "\n",
    "df = pd.DataFrame(data={'cell_id':np.tile(counts_matrix.index,(1,counts_matrix.shape[1])).flatten(),\n",
    "                        'total_counts': np.tile(counts_matrix.sum(axis=1),(1,counts_matrix.shape[1])).flatten(),\n",
    "                        'log_total_counts': np.log10( np.tile(counts_matrix.sum(axis=1),(1,counts_matrix.shape[1])).flatten() ),\n",
    "                        'freq': np.ravel(freq_matrix.values.T),\n",
    "                        'log_freq': np.ravel(log_freq_matrix.values.T),\n",
    "                        'sgRNA_counts': np.ravel(counts_matrix.values.T),\n",
    "                        'log_sgRNA_counts': np.log10( np.ravel(counts_matrix.values.T) ) \n",
    "                       })\n",
    "df"
   ]
  },
  {
   "cell_type": "code",
   "execution_count": 9,
   "id": "352ffbef-9950-456c-9a19-f251ce458290",
   "metadata": {},
   "outputs": [
    {
     "data": {
      "image/png": "[encoded data removed]",
      "text/plain": [
       "<Figure size 1170x827 with 1 Axes>"
      ]
     },
     "metadata": {},
     "output_type": "display_data"
    },
    {
     "data": {
      "text/plain": [
       "<Figure size 1170x827 with 0 Axes>"
      ]
     },
     "metadata": {},
     "output_type": "display_data"
    }
   ],
   "source": [
    "sns.histplot(\n",
    "    data=df[df.log_sgRNA_counts > 0], x = 'freq', y = 'log_sgRNA_counts', bins=50\n",
    ")\n",
    "\n",
    "plt.savefig(\"figures/sgRNA_density_plot_Rd1\", dpi=400)\n",
    "plt.show()\n",
    "plt.clf()"
   ]
  },
  {
   "cell_type": "code",
   "execution_count": 10,
   "id": "4edeba87-4de5-4383-a9cc-402a9a2aee20",
   "metadata": {},
   "outputs": [],
   "source": [
    "counts_matrix_filtered = counts_matrix.copy()\n",
    "counts_matrix_filtered[(freq_matrix <= 0.175) & (counts_matrix <= 10**1.75)] = 0"
   ]
  },
  {
   "cell_type": "code",
   "execution_count": 11,
   "id": "4bb2c521-87cf-4d75-ba1b-f5fa1ebedbb2",
   "metadata": {},
   "outputs": [
    {
     "name": "stderr",
     "output_type": "stream",
     "text": [
      "/tmp/ipykernel_2555848/1625252562.py:10: RuntimeWarning: divide by zero encountered in log10\n",
      "  'log_sgRNA_counts': np.log10( np.ravel(counts_matrix_filtered.values.T) )\n"
     ]
    }
   ],
   "source": [
    "freq_matrix = counts_matrix_filtered / counts_matrix_filtered.sum(axis=1).values[:,None] \n",
    "log_freq_matrix = np.log10( 1 + counts_matrix_filtered ) / np.log10(1 + counts_matrix_filtered.sum(axis=1).values[:,None] ) \n",
    "\n",
    "df = pd.DataFrame(data={'cell_id':np.tile(counts_matrix_filtered.index,(1,counts_matrix.shape[1])).flatten(),\n",
    "                        'total_counts': np.tile(counts_matrix_filtered.sum(axis=1),(1,counts_matrix.shape[1])).flatten(),\n",
    "                        'log_total_counts': np.log10( np.tile(counts_matrix_filtered.sum(axis=1),(1,counts_matrix.shape[1])).flatten() ),\n",
    "                        'freq': np.ravel(freq_matrix.values.T),\n",
    "                        'log_freq': np.ravel(log_freq_matrix.values.T),\n",
    "                        'sgRNA_counts': np.ravel(counts_matrix_filtered.values.T),\n",
    "                        'log_sgRNA_counts': np.log10( np.ravel(counts_matrix_filtered.values.T) ) \n",
    "                       })"
   ]
  },
  {
   "cell_type": "code",
   "execution_count": 12,
   "id": "e6bc0d94-5c6f-4028-98e7-416d459a3ed5",
   "metadata": {},
   "outputs": [
    {
     "data": {
      "image/png": "[encoded data removed]",
      "text/plain": [
       "<Figure size 1170x827 with 1 Axes>"
      ]
     },
     "metadata": {},
     "output_type": "display_data"
    },
    {
     "data": {
      "text/plain": [
       "<Figure size 1170x827 with 0 Axes>"
      ]
     },
     "metadata": {},
     "output_type": "display_data"
    }
   ],
   "source": [
    "sns.histplot(\n",
    "    data=df[df.log_sgRNA_counts > 0], x = 'freq', y = 'log_sgRNA_counts', bins=50\n",
    ")\n",
    "\n",
    "plt.savefig(\"figures/sgRNA_density_plot_filtered_Rd1\", dpi=400)\n",
    "plt.show()\n",
    "plt.clf()"
   ]
  },
  {
   "cell_type": "markdown",
   "id": "aa22081d-b950-4558-ab09-4e46119c2e77",
   "metadata": {},
   "source": [
    "# Step 2: Map MOI=2 cells to MOI=1 when sgRNAs correspond to same gene, or targetgeting & targeting map"
   ]
  },
  {
   "cell_type": "code",
   "execution_count": 13,
   "id": "c96c14f4-6b55-4b55-8201-db676bd79abc",
   "metadata": {},
   "outputs": [],
   "source": [
    "def combine_columns_and_delete(counts_matrix_filtered, col1, col2, new_col):\n",
    "    counts_matrix_filtered[new_col] = counts_matrix_filtered[col1] + counts_matrix_filtered[col2]\n",
    "    counts_matrix_filtered = counts_matrix_filtered.drop(columns=[col1, col2])\n",
    "    return counts_matrix_filtered"
   ]
  },
  {
   "cell_type": "code",
   "execution_count": 14,
   "id": "95fbe7f7-ff1e-40e6-bbe4-f62d37ed9891",
   "metadata": {},
   "outputs": [
    {
     "data": {
      "text/plain": [
       "Index(['Arid2_As_73066', 'Arid2_As_73067', 'Brd7_As_70316', 'Brd9_As_70306',\n",
       "       'Brd9_As_70308', 'Dmap1_As_60922', 'Hcfc1_As_49709', 'Hcfc1_As_49711',\n",
       "       'Ino80_As_46860', 'Kansl1_As_45908', 'Kansl1_As_45909', 'Kat5_Br_45092',\n",
       "       'Kat5_Br_45093', 'Kat8_As_45860', 'Kat8_As_45861', 'NTC_0005',\n",
       "       'NTC_0006', 'Pbrm1_As_28642', 'Pbrm1_As_28643', 'Smad4_1',\n",
       "       'Smarcd1_As_15167', 'Smarcd1_Br_45407', 'Srcap_As_77988', 'TGFbR_1',\n",
       "       'Wdr82_As_3096', 'Wdr82_As_3097', 'Yy1_As_2359', 'Znhit1_As_222',\n",
       "       'Smad4_3', 'TGFbR_3'],\n",
       "      dtype='object', name='feature_call')"
      ]
     },
     "execution_count": 14,
     "metadata": {},
     "output_type": "execute_result"
    }
   ],
   "source": [
    "counts_matrix_filtered.columns"
   ]
  },
  {
   "cell_type": "code",
   "execution_count": 15,
   "id": "14ebf14d-4995-4c00-9232-179ba16c5f96",
   "metadata": {},
   "outputs": [],
   "source": [
    "counts_matrix_filtered = combine_columns_and_delete(counts_matrix_filtered,'NTC_0005','NTC_0006','non-targeting')\n",
    "counts_matrix_filtered = combine_columns_and_delete(counts_matrix_filtered,'Arid2_As_73066', 'Arid2_As_73067','Arid2')\n",
    "counts_matrix_filtered = combine_columns_and_delete(counts_matrix_filtered,'Brd9_As_70306','Brd9_As_70308','Brd9')\n",
    "counts_matrix_filtered = combine_columns_and_delete(counts_matrix_filtered,'Hcfc1_As_49709', 'Hcfc1_As_49711','Hcfc1')\n",
    "counts_matrix_filtered = combine_columns_and_delete(counts_matrix_filtered,'Kansl1_As_45908', 'Kansl1_As_45909','Kansl1')\n",
    "counts_matrix_filtered = combine_columns_and_delete(counts_matrix_filtered,'Kat5_Br_45092','Kat5_Br_45093','Kat5')\n",
    "counts_matrix_filtered = combine_columns_and_delete(counts_matrix_filtered,'Kat8_As_45860', 'Kat8_As_45861','Kat8')\n",
    "counts_matrix_filtered = combine_columns_and_delete(counts_matrix_filtered, 'Pbrm1_As_28642','Pbrm1_As_28643','Pbrm1')\n",
    "counts_matrix_filtered = combine_columns_and_delete(counts_matrix_filtered,'Smarcd1_As_15167', 'Smarcd1_Br_45407','Smarcd1')\n",
    "counts_matrix_filtered = combine_columns_and_delete(counts_matrix_filtered,'Wdr82_As_3096', 'Wdr82_As_3097','Wdr82')\n",
    "\n",
    "counts_matrix_filtered = combine_columns_and_delete(counts_matrix_filtered,'Smad4_1','Smad4_3','Smad4')\n",
    "\n",
    "counts_matrix_filtered = combine_columns_and_delete(counts_matrix_filtered,'TGFbR_1','TGFbR_3','Tgfbr1') \n",
    "\n",
    "counts_matrix_filtered = counts_matrix_filtered.rename(columns={\"Brd7_As_70316\":\"Brd7\",\"Dmap1_As_60922\":\"Dmap1\",\n",
    "                                                                \"Ino80_As_46860\":\"Ino80\", \"Srcap_As_77988\":\"Srcap\",\n",
    "                                                                \"Yy1_As_2359\":\"Yy1\",\"Znhit1_As_222\":\"Znhit1\"})"
   ]
  },
  {
   "cell_type": "code",
   "execution_count": 16,
   "id": "85f2a3d7-7a57-410e-9162-e11dba8ba7fd",
   "metadata": {},
   "outputs": [
    {
     "data": {
      "text/plain": [
       "Index(['Brd7', 'Dmap1', 'Ino80', 'Srcap', 'Yy1', 'Znhit1', 'non-targeting',\n",
       "       'Arid2', 'Brd9', 'Hcfc1', 'Kansl1', 'Kat5', 'Kat8', 'Pbrm1', 'Smarcd1',\n",
       "       'Wdr82', 'Smad4', 'Tgfbr1'],\n",
       "      dtype='object', name='feature_call')"
      ]
     },
     "execution_count": 16,
     "metadata": {},
     "output_type": "execute_result"
    }
   ],
   "source": [
    "counts_matrix_filtered.columns"
   ]
  },
  {
   "cell_type": "code",
   "execution_count": 17,
   "id": "bc355587-5ef6-4239-b6a8-f37908d33083",
   "metadata": {},
   "outputs": [
    {
     "data": {
      "text/plain": [
       "feature_call\n",
       "Brd7               96826\n",
       "Dmap1               5665\n",
       "Ino80               7050\n",
       "Srcap              53454\n",
       "Yy1                36632\n",
       "Znhit1            131668\n",
       "non-targeting    1257613\n",
       "Arid2              63504\n",
       "Brd9               53107\n",
       "Hcfc1              70882\n",
       "Kansl1             70310\n",
       "Kat5              108617\n",
       "Kat8              145806\n",
       "Pbrm1             238603\n",
       "Smarcd1           110994\n",
       "Wdr82              66356\n",
       "Smad4              24858\n",
       "Tgfbr1             24818\n",
       "dtype: int64"
      ]
     },
     "execution_count": 17,
     "metadata": {},
     "output_type": "execute_result"
    }
   ],
   "source": [
    "counts_matrix_filtered.sum()"
   ]
  },
  {
   "cell_type": "code",
   "execution_count": 18,
   "id": "57a2f886-c1a2-4bca-90fd-72af3ba80ba5",
   "metadata": {},
   "outputs": [],
   "source": [
    "MOI1_cells = counts_matrix_filtered[(counts_matrix_filtered >0).apply(lambda row: sum(row)==1, axis=1)]\n",
    "MOI2_cells = counts_matrix_filtered[(counts_matrix_filtered >0).apply(lambda row: sum(row)==2, axis=1)]"
   ]
  },
  {
   "cell_type": "code",
   "execution_count": 19,
   "id": "697a7b54-bdb6-4041-b79e-659b05ed2416",
   "metadata": {},
   "outputs": [
    {
     "name": "stderr",
     "output_type": "stream",
     "text": [
      "/tmp/ipykernel_2555848/2051351486.py:1: SettingWithCopyWarning: \n",
      "A value is trying to be set on a copy of a slice from a DataFrame.\n",
      "Try using .loc[row_indexer,col_indexer] = value instead\n",
      "\n",
      "See the caveats in the documentation: https://pandas.pydata.org/pandas-docs/stable/user_guide/indexing.html#returning-a-view-versus-a-copy\n",
      "  MOI2_cells['non-targeting'] = 0\n"
     ]
    }
   ],
   "source": [
    "MOI2_cells['non-targeting'] = 0\n",
    "MOI1_rescue = MOI2_cells[(MOI2_cells >0).apply(lambda row: sum(row)==1, axis=1)]"
   ]
  },
  {
   "cell_type": "code",
   "execution_count": 20,
   "id": "fb999d60-5d9e-43cd-855c-9411f9aedb0e",
   "metadata": {},
   "outputs": [],
   "source": [
    "cells_to_keep = pd.concat([MOI1_cells, MOI1_rescue])\n",
    "cells_to_keep['target_max'] = cells_to_keep.idxmax(axis=1)\n",
    "cells_to_keep = cells_to_keep.drop(columns=counts_matrix_filtered.columns.unique())\n"
   ]
  },
  {
   "cell_type": "code",
   "execution_count": 21,
   "id": "e7add9e1-f2a6-4ec0-9718-29bf0fa1a222",
   "metadata": {},
   "outputs": [
    {
     "data": {
      "text/html": [
       "<div>\n",
       "<style scoped>\n",
       "    .dataframe tbody tr th:only-of-type {\n",
       "        vertical-align: middle;\n",
       "    }\n",
       "\n",
       "    .dataframe tbody tr th {\n",
       "        vertical-align: top;\n",
       "    }\n",
       "\n",
       "    .dataframe thead th {\n",
       "        text-align: right;\n",
       "    }\n",
       "</style>\n",
       "<table border=\"1\" class=\"dataframe\">\n",
       "  <thead>\n",
       "    <tr style=\"text-align: right;\">\n",
       "      <th>feature_call</th>\n",
       "      <th>target_max</th>\n",
       "    </tr>\n",
       "    <tr>\n",
       "      <th>cell_barcode</th>\n",
       "      <th></th>\n",
       "    </tr>\n",
       "  </thead>\n",
       "  <tbody>\n",
       "    <tr>\n",
       "      <th>AAACCCAAGATAACGT-1-Activated_OP1L_NM_NA_Rep1</th>\n",
       "      <td>Kat8</td>\n",
       "    </tr>\n",
       "    <tr>\n",
       "      <th>AAACCCAAGATCCCAT-1-Activated_OP1L_NM_NA_Rep1</th>\n",
       "      <td>non-targeting</td>\n",
       "    </tr>\n",
       "    <tr>\n",
       "      <th>AAACCCAGTCTCTCCA-1-Activated_OP1L_NM_NA_Rep1</th>\n",
       "      <td>Znhit1</td>\n",
       "    </tr>\n",
       "    <tr>\n",
       "      <th>AAACGAAAGGGTAATT-1-Activated_OP1L_NM_NA_Rep1</th>\n",
       "      <td>non-targeting</td>\n",
       "    </tr>\n",
       "    <tr>\n",
       "      <th>AAACGCTAGTGTACCT-1-Activated_OP1L_NM_NA_Rep1</th>\n",
       "      <td>non-targeting</td>\n",
       "    </tr>\n",
       "    <tr>\n",
       "      <th>...</th>\n",
       "      <td>...</td>\n",
       "    </tr>\n",
       "    <tr>\n",
       "      <th>TTTAGTCGTTAAGCAA-1-Quiescent_OP1L_NM_NA_Rep2</th>\n",
       "      <td>Wdr82</td>\n",
       "    </tr>\n",
       "    <tr>\n",
       "      <th>TTTCACATCTTGGAAC-1-Quiescent_OP1L_NM_NA_Rep2</th>\n",
       "      <td>Srcap</td>\n",
       "    </tr>\n",
       "    <tr>\n",
       "      <th>TTTCCTCGTTCGTAAC-1-Quiescent_OP1L_NM_NA_Rep2</th>\n",
       "      <td>Kat5</td>\n",
       "    </tr>\n",
       "    <tr>\n",
       "      <th>TTTGGAGTCAGCGCGT-1-Quiescent_OP1L_NM_NA_Rep2</th>\n",
       "      <td>Tgfbr1</td>\n",
       "    </tr>\n",
       "    <tr>\n",
       "      <th>TTTGGTTCATCGGATT-1-Quiescent_OP1L_NM_NA_Rep2</th>\n",
       "      <td>Hcfc1</td>\n",
       "    </tr>\n",
       "  </tbody>\n",
       "</table>\n",
       "<p>11726 rows × 1 columns</p>\n",
       "</div>"
      ],
      "text/plain": [
       "feature_call                                     target_max\n",
       "cell_barcode                                               \n",
       "AAACCCAAGATAACGT-1-Activated_OP1L_NM_NA_Rep1           Kat8\n",
       "AAACCCAAGATCCCAT-1-Activated_OP1L_NM_NA_Rep1  non-targeting\n",
       "AAACCCAGTCTCTCCA-1-Activated_OP1L_NM_NA_Rep1         Znhit1\n",
       "AAACGAAAGGGTAATT-1-Activated_OP1L_NM_NA_Rep1  non-targeting\n",
       "AAACGCTAGTGTACCT-1-Activated_OP1L_NM_NA_Rep1  non-targeting\n",
       "...                                                     ...\n",
       "TTTAGTCGTTAAGCAA-1-Quiescent_OP1L_NM_NA_Rep2          Wdr82\n",
       "TTTCACATCTTGGAAC-1-Quiescent_OP1L_NM_NA_Rep2          Srcap\n",
       "TTTCCTCGTTCGTAAC-1-Quiescent_OP1L_NM_NA_Rep2           Kat5\n",
       "TTTGGAGTCAGCGCGT-1-Quiescent_OP1L_NM_NA_Rep2         Tgfbr1\n",
       "TTTGGTTCATCGGATT-1-Quiescent_OP1L_NM_NA_Rep2          Hcfc1\n",
       "\n",
       "[11726 rows x 1 columns]"
      ]
     },
     "execution_count": 21,
     "metadata": {},
     "output_type": "execute_result"
    }
   ],
   "source": [
    "cells_to_keep"
   ]
  },
  {
   "cell_type": "code",
   "execution_count": 22,
   "id": "56e207ef-3d5f-4709-a8b3-f0e19eed0e5d",
   "metadata": {},
   "outputs": [
    {
     "name": "stderr",
     "output_type": "stream",
     "text": [
      "/tmp/ipykernel_2555848/772692968.py:18: SettingWithCopyWarning: \n",
      "A value is trying to be set on a copy of a slice from a DataFrame\n",
      "\n",
      "See the caveats in the documentation: https://pandas.pydata.org/pandas-docs/stable/user_guide/indexing.html#returning-a-view-versus-a-copy\n",
      "  cells_to_keep['condition'].loc[cb] = state1\n",
      "/tmp/ipykernel_2555848/772692968.py:19: SettingWithCopyWarning: \n",
      "A value is trying to be set on a copy of a slice from a DataFrame\n",
      "\n",
      "See the caveats in the documentation: https://pandas.pydata.org/pandas-docs/stable/user_guide/indexing.html#returning-a-view-versus-a-copy\n",
      "  cells_to_keep['batch'].loc[cb] = state2\n",
      "/tmp/ipykernel_2555848/772692968.py:20: SettingWithCopyWarning: \n",
      "A value is trying to be set on a copy of a slice from a DataFrame\n",
      "\n",
      "See the caveats in the documentation: https://pandas.pydata.org/pandas-docs/stable/user_guide/indexing.html#returning-a-view-versus-a-copy\n",
      "  cells_to_keep['cell_barcode_corrected'].loc[cb] = cb[0:16] + '-' + state2\n"
     ]
    }
   ],
   "source": [
    "cells_to_keep['cell_barcode_corrected'] = 0\n",
    "cells_to_keep['cell_barcode_old'] = cells_to_keep.index\n",
    "cells_to_keep['condition'] = 'NaN'\n",
    "cells_to_keep['batch'] = 'NaN'\n",
    "for cb in cells_to_keep.index:\n",
    "    if 'Quiescent' in cb:\n",
    "        state1 = 'Resting'\n",
    "        if 'Rep1' in cb:\n",
    "            state2 = 'Rep1-Resting'\n",
    "        else:\n",
    "            state2 = 'Rep2-Resting'  \n",
    "    if 'Activated' in cb:\n",
    "        state1 = 'Tgfb1'\n",
    "        if 'Rep1' in cb:\n",
    "            state2 = 'Rep3-Tgfb1'\n",
    "        else:\n",
    "            state2 = 'Rep4-Tgfb1' \n",
    "    cells_to_keep['condition'].loc[cb] = state1\n",
    "    cells_to_keep['batch'].loc[cb] = state2\n",
    "    cells_to_keep['cell_barcode_corrected'].loc[cb] = cb[0:16] + '-' + state2\n",
    "    cells_to_keep['cell_barcode_old'].loc[cb] = cb[0:18]\n",
    "cells_to_keep = cells_to_keep.set_index('cell_barcode_corrected')\n"
   ]
  },
  {
   "cell_type": "code",
   "execution_count": 23,
   "id": "30bbd213-e039-4318-9b94-a4c86b6658ba",
   "metadata": {},
   "outputs": [
    {
     "data": {
      "text/plain": [
       "array(['Rep3-Tgfb1', 'Rep4-Tgfb1', 'Rep1-Resting', 'Rep2-Resting'],\n",
       "      dtype=object)"
      ]
     },
     "execution_count": 23,
     "metadata": {},
     "output_type": "execute_result"
    }
   ],
   "source": [
    "cells_to_keep.batch.unique()"
   ]
  },
  {
   "cell_type": "code",
   "execution_count": 24,
   "id": "b418777a-ece9-4dff-b502-28ac104c537e",
   "metadata": {},
   "outputs": [
    {
     "data": {
      "text/html": [
       "<div>\n",
       "<style scoped>\n",
       "    .dataframe tbody tr th:only-of-type {\n",
       "        vertical-align: middle;\n",
       "    }\n",
       "\n",
       "    .dataframe tbody tr th {\n",
       "        vertical-align: top;\n",
       "    }\n",
       "\n",
       "    .dataframe thead th {\n",
       "        text-align: right;\n",
       "    }\n",
       "</style>\n",
       "<table border=\"1\" class=\"dataframe\">\n",
       "  <thead>\n",
       "    <tr style=\"text-align: right;\">\n",
       "      <th>feature_call</th>\n",
       "      <th>target_max</th>\n",
       "      <th>cell_barcode_old</th>\n",
       "      <th>condition</th>\n",
       "    </tr>\n",
       "    <tr>\n",
       "      <th>batch</th>\n",
       "      <th></th>\n",
       "      <th></th>\n",
       "      <th></th>\n",
       "    </tr>\n",
       "  </thead>\n",
       "  <tbody>\n",
       "    <tr>\n",
       "      <th>Rep1-Resting</th>\n",
       "      <td>3079</td>\n",
       "      <td>3079</td>\n",
       "      <td>3079</td>\n",
       "    </tr>\n",
       "    <tr>\n",
       "      <th>Rep2-Resting</th>\n",
       "      <td>3063</td>\n",
       "      <td>3063</td>\n",
       "      <td>3063</td>\n",
       "    </tr>\n",
       "    <tr>\n",
       "      <th>Rep3-Tgfb1</th>\n",
       "      <td>2670</td>\n",
       "      <td>2670</td>\n",
       "      <td>2670</td>\n",
       "    </tr>\n",
       "    <tr>\n",
       "      <th>Rep4-Tgfb1</th>\n",
       "      <td>2914</td>\n",
       "      <td>2914</td>\n",
       "      <td>2914</td>\n",
       "    </tr>\n",
       "  </tbody>\n",
       "</table>\n",
       "</div>"
      ],
      "text/plain": [
       "feature_call  target_max  cell_barcode_old  condition\n",
       "batch                                                \n",
       "Rep1-Resting        3079              3079       3079\n",
       "Rep2-Resting        3063              3063       3063\n",
       "Rep3-Tgfb1          2670              2670       2670\n",
       "Rep4-Tgfb1          2914              2914       2914"
      ]
     },
     "execution_count": 24,
     "metadata": {},
     "output_type": "execute_result"
    }
   ],
   "source": [
    "cells_to_keep.groupby(['batch']).count()"
   ]
  },
  {
   "cell_type": "markdown",
   "id": "ed68a7a5-ac61-4547-ba50-89bf73aaf306",
   "metadata": {},
   "source": [
    "# Step 3: Select cells and merge into adata object"
   ]
  },
  {
   "cell_type": "code",
   "execution_count": 25,
   "id": "1ccf91cd-bab3-4066-8336-47c45b0d6a9c",
   "metadata": {},
   "outputs": [
    {
     "name": "stderr",
     "output_type": "stream",
     "text": [
      "/opt/tljh/user/envs/jake_sc_eda/lib/python3.10/site-packages/anndata/_core/anndata.py:1832: UserWarning: Variable names are not unique. To make them unique, call `.var_names_make_unique`.\n",
      "  utils.warn_names_duplicates(\"var\")\n",
      "/opt/tljh/user/envs/jake_sc_eda/lib/python3.10/site-packages/anndata/_core/anndata.py:1832: UserWarning: Variable names are not unique. To make them unique, call `.var_names_make_unique`.\n",
      "  utils.warn_names_duplicates(\"var\")\n",
      "/opt/tljh/user/envs/jake_sc_eda/lib/python3.10/site-packages/anndata/_core/anndata.py:1832: UserWarning: Variable names are not unique. To make them unique, call `.var_names_make_unique`.\n",
      "  utils.warn_names_duplicates(\"var\")\n",
      "/opt/tljh/user/envs/jake_sc_eda/lib/python3.10/site-packages/anndata/_core/anndata.py:1832: UserWarning: Variable names are not unique. To make them unique, call `.var_names_make_unique`.\n",
      "  utils.warn_names_duplicates(\"var\")\n"
     ]
    }
   ],
   "source": [
    "adata_rep1 = sc.read_10x_h5('/home/jupyter-jake/SharedData/collaborations/lara-fibroblast-mouse/reseqFibro2/Quiescent_OP1L_NM_NA_Rep1/outs/filtered_feature_bc_matrix.h5')\n",
    "adata_rep2 = sc.read_10x_h5('/home/jupyter-jake/SharedData/collaborations/lara-fibroblast-mouse/reseqFibro2/Quiescent_OP1L_NM_NA_Rep2/outs/filtered_feature_bc_matrix.h5')\n",
    "adata_rep3 = sc.read_10x_h5('/home/jupyter-jake/SharedData/collaborations/lara-fibroblast-mouse/reseqFibro2/Activated_OP1L_NM_NA_Rep1/outs/filtered_feature_bc_matrix.h5')\n",
    "adata_rep4 = sc.read_10x_h5('/home/jupyter-jake/SharedData/collaborations/lara-fibroblast-mouse/reseqFibro2/Activated_OP1L_NM_NA_Rep2/outs/filtered_feature_bc_matrix.h5')\n",
    "\n"
   ]
  },
  {
   "cell_type": "code",
   "execution_count": 26,
   "id": "781b923d-ac5d-48b4-9320-c3501d9e8ad8",
   "metadata": {},
   "outputs": [],
   "source": [
    "batch_adatas = {'Rep1-Resting':adata_rep1,\n",
    "                'Rep2-Resting':adata_rep2, \n",
    "                'Rep3-Tgfb1':adata_rep3, \n",
    "                'Rep4-Tgfb1':adata_rep4\n",
    "               }"
   ]
  },
  {
   "cell_type": "code",
   "execution_count": 27,
   "id": "d423633d-9f95-4327-8089-0104f04499a0",
   "metadata": {},
   "outputs": [
    {
     "name": "stdout",
     "output_type": "stream",
     "text": [
      "The history saving thread hit an unexpected error (OperationalError('database is locked')).History will not be written to the database.\n",
      "Rep1-Resting\n",
      "Rep2-Resting\n",
      "Rep3-Tgfb1\n",
      "Rep4-Tgfb1\n"
     ]
    },
    {
     "name": "stderr",
     "output_type": "stream",
     "text": [
      "/opt/tljh/user/envs/jake_sc_eda/lib/python3.10/site-packages/anndata/_core/anndata.py:1832: UserWarning: Variable names are not unique. To make them unique, call `.var_names_make_unique`.\n",
      "  utils.warn_names_duplicates(\"var\")\n",
      "/opt/tljh/user/envs/jake_sc_eda/lib/python3.10/site-packages/anndata/_core/anndata.py:1832: UserWarning: Variable names are not unique. To make them unique, call `.var_names_make_unique`.\n",
      "  utils.warn_names_duplicates(\"var\")\n",
      "/opt/tljh/user/envs/jake_sc_eda/lib/python3.10/site-packages/anndata/_core/anndata.py:1832: UserWarning: Variable names are not unique. To make them unique, call `.var_names_make_unique`.\n",
      "  utils.warn_names_duplicates(\"var\")\n",
      "/opt/tljh/user/envs/jake_sc_eda/lib/python3.10/site-packages/anndata/_core/anndata.py:1832: UserWarning: Variable names are not unique. To make them unique, call `.var_names_make_unique`.\n",
      "  utils.warn_names_duplicates(\"var\")\n",
      "/opt/tljh/user/envs/jake_sc_eda/lib/python3.10/site-packages/anndata/_core/anndata.py:1832: UserWarning: Variable names are not unique. To make them unique, call `.var_names_make_unique`.\n",
      "  utils.warn_names_duplicates(\"var\")\n",
      "/opt/tljh/user/envs/jake_sc_eda/lib/python3.10/site-packages/anndata/_core/anndata.py:1832: UserWarning: Variable names are not unique. To make them unique, call `.var_names_make_unique`.\n",
      "  utils.warn_names_duplicates(\"var\")\n",
      "/opt/tljh/user/envs/jake_sc_eda/lib/python3.10/site-packages/anndata/_core/anndata.py:1832: UserWarning: Variable names are not unique. To make them unique, call `.var_names_make_unique`.\n",
      "  utils.warn_names_duplicates(\"var\")\n"
     ]
    }
   ],
   "source": [
    "for ii in batch_adatas.keys():\n",
    "    print(ii)\n",
    "    adata_tmp = batch_adatas[ii].copy()\n",
    "    cells_to_keep_tmp = cells_to_keep[cells_to_keep.batch == ii].copy()\n",
    "    cells_to_keep_tmp.reset_index(inplace=True)\n",
    "    cells_to_keep_tmp.set_index('cell_barcode_old', inplace=True)\n",
    "    adata_tmp = adata_tmp[adata_tmp.obs.index.isin(cells_to_keep_tmp.index),:]\n",
    "    adata_tmp.obs = pd.concat([adata_tmp.obs, cells_to_keep_tmp], axis=1).reindex(adata_tmp.obs.index)\n",
    "    adata_tmp.obs.set_index('cell_barcode_corrected', inplace=True)\n",
    "    adata_tmp.var.index.name = 'original_name'\n",
    "    adata_tmp.obs_names_make_unique()\n",
    "    adata_tmp.var_names_make_unique()\n",
    "    batch_adatas[ii] = adata_tmp"
   ]
  },
  {
   "cell_type": "code",
   "execution_count": 28,
   "id": "40e756d0-a2e8-48af-a071-d80cad652210",
   "metadata": {},
   "outputs": [],
   "source": [
    "adata = ad.concat(batch_adatas, axis = 0)"
   ]
  },
  {
   "cell_type": "code",
   "execution_count": 29,
   "id": "ad0c9f98-cace-4a7d-aa18-2bae74dbad3f",
   "metadata": {},
   "outputs": [],
   "source": [
    "adata.var['mt'] = adata.var_names.str.startswith('mt-')  # annotate the group of mitochondrial genes as 'mt'"
   ]
  },
  {
   "cell_type": "code",
   "execution_count": 30,
   "id": "58fa3488-44c6-41a7-bb8f-3e7a8a60e7ed",
   "metadata": {},
   "outputs": [],
   "source": [
    "sc.pp.calculate_qc_metrics(adata, qc_vars=['mt'], percent_top=None, log1p=False, inplace=True)"
   ]
  },
  {
   "cell_type": "code",
   "execution_count": 31,
   "id": "a0b267dd-502f-4c69-a075-e01968c206d0",
   "metadata": {},
   "outputs": [],
   "source": [
    "adata.obs['target'] = adata.obs['target_max']\n",
    "adata.obs.drop(columns=['target_max'], inplace=True)"
   ]
  },
  {
   "cell_type": "code",
   "execution_count": 32,
   "id": "6349fb73-f2d1-491e-ac88-7fa7a36ab280",
   "metadata": {},
   "outputs": [
    {
     "data": {
      "text/html": [
       "<div>\n",
       "<style scoped>\n",
       "    .dataframe tbody tr th:only-of-type {\n",
       "        vertical-align: middle;\n",
       "    }\n",
       "\n",
       "    .dataframe tbody tr th {\n",
       "        vertical-align: top;\n",
       "    }\n",
       "\n",
       "    .dataframe thead th {\n",
       "        text-align: right;\n",
       "    }\n",
       "</style>\n",
       "<table border=\"1\" class=\"dataframe\">\n",
       "  <thead>\n",
       "    <tr style=\"text-align: right;\">\n",
       "      <th></th>\n",
       "      <th></th>\n",
       "      <th>n_genes_by_counts</th>\n",
       "      <th>total_counts</th>\n",
       "      <th>total_counts_mt</th>\n",
       "      <th>pct_counts_mt</th>\n",
       "      <th>target</th>\n",
       "    </tr>\n",
       "    <tr>\n",
       "      <th>condition</th>\n",
       "      <th>batch</th>\n",
       "      <th></th>\n",
       "      <th></th>\n",
       "      <th></th>\n",
       "      <th></th>\n",
       "      <th></th>\n",
       "    </tr>\n",
       "  </thead>\n",
       "  <tbody>\n",
       "    <tr>\n",
       "      <th rowspan=\"2\" valign=\"top\">Resting</th>\n",
       "      <th>Rep1-Resting</th>\n",
       "      <td>3079</td>\n",
       "      <td>3079</td>\n",
       "      <td>3079</td>\n",
       "      <td>3079</td>\n",
       "      <td>3079</td>\n",
       "    </tr>\n",
       "    <tr>\n",
       "      <th>Rep2-Resting</th>\n",
       "      <td>3063</td>\n",
       "      <td>3063</td>\n",
       "      <td>3063</td>\n",
       "      <td>3063</td>\n",
       "      <td>3063</td>\n",
       "    </tr>\n",
       "    <tr>\n",
       "      <th rowspan=\"2\" valign=\"top\">Tgfb1</th>\n",
       "      <th>Rep3-Tgfb1</th>\n",
       "      <td>2670</td>\n",
       "      <td>2670</td>\n",
       "      <td>2670</td>\n",
       "      <td>2670</td>\n",
       "      <td>2670</td>\n",
       "    </tr>\n",
       "    <tr>\n",
       "      <th>Rep4-Tgfb1</th>\n",
       "      <td>2914</td>\n",
       "      <td>2914</td>\n",
       "      <td>2914</td>\n",
       "      <td>2914</td>\n",
       "      <td>2914</td>\n",
       "    </tr>\n",
       "  </tbody>\n",
       "</table>\n",
       "</div>"
      ],
      "text/plain": [
       "                        n_genes_by_counts  total_counts  total_counts_mt  \\\n",
       "condition batch                                                            \n",
       "Resting   Rep1-Resting               3079          3079             3079   \n",
       "          Rep2-Resting               3063          3063             3063   \n",
       "Tgfb1     Rep3-Tgfb1                 2670          2670             2670   \n",
       "          Rep4-Tgfb1                 2914          2914             2914   \n",
       "\n",
       "                        pct_counts_mt  target  \n",
       "condition batch                                \n",
       "Resting   Rep1-Resting           3079    3079  \n",
       "          Rep2-Resting           3063    3063  \n",
       "Tgfb1     Rep3-Tgfb1             2670    2670  \n",
       "          Rep4-Tgfb1             2914    2914  "
      ]
     },
     "execution_count": 32,
     "metadata": {},
     "output_type": "execute_result"
    }
   ],
   "source": [
    "adata.obs.groupby(['condition','batch']).count()"
   ]
  },
  {
   "cell_type": "code",
   "execution_count": null,
   "id": "212ccd04-e2d4-4c9d-b944-6f5812ebe281",
   "metadata": {},
   "outputs": [],
   "source": []
  },
  {
   "cell_type": "code",
   "execution_count": 33,
   "id": "c82b1c75-5273-4a4a-b5b7-16623492fcf2",
   "metadata": {},
   "outputs": [],
   "source": [
    "adata.write_h5ad('/home/jupyter-jake/SharedData/collaborations/lara-fibroblast-mouse/Rd1_Data_post_sgRNA_rescue-reseq.h5ad.gzip', compression='gzip')"
   ]
  },
  {
   "cell_type": "code",
   "execution_count": null,
   "id": "eb48ef6a-4de2-4b74-b4da-f1d833beb8d8",
   "metadata": {},
   "outputs": [],
   "source": []
  }
 ],
 "metadata": {
  "kernelspec": {
   "display_name": "relation-bioinformatics-tools",
   "language": "python",
   "name": "relation-bioinformatics-tools"
  },
  "language_info": {
   "codemirror_mode": {
    "name": "ipython",
    "version": 3
   },
   "file_extension": ".py",
   "mimetype": "text/x-python",
   "name": "python",
   "nbconvert_exporter": "python",
   "pygments_lexer": "ipython3",
   "version": "3.10.12"
  }
 },
 "nbformat": 4,
 "nbformat_minor": 5
}
