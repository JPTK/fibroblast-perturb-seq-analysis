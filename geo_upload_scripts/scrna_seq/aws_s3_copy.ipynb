{
 "cells": [
  {
   "cell_type": "code",
   "execution_count": null,
   "metadata": {},
   "outputs": [],
   "source": [
    "from pathlib import Path\n",
    "import pandas as pd"
   ]
  },
  {
   "cell_type": "code",
   "execution_count": null,
   "metadata": {},
   "outputs": [],
   "source": [
    "DATA_FOLDERS = [\n",
    "    \"Activated_OP1L_NM_NA_Rep1\",\n",
    "    \"Activated_OP1L_NM_NA_Rep2\",\n",
    "    \"Quiescent_OP1L_NM_NA_Rep1\",\n",
    "    \"Quiescent_OP1L_NM_NA_Rep2\",\n",
    "\n",
    "    \"exVivo_OP2_IL1b_1\",\n",
    "    \"exVivo_OP2_IL1b_2\",\n",
    "    \"exVivo_OP2_resting_1\",\n",
    "    \"exVivo_OP2_resting_2\",\n",
    "    \"exVivo_OP2_TGFb_1\",\n",
    "    \"exVivo_OP2_TGFb_2\",\n",
    "    ]"
   ]
  },
  {
   "cell_type": "markdown",
   "metadata": {},
   "source": [
    "Copy processed data"
   ]
  },
  {
   "cell_type": "code",
   "execution_count": null,
   "metadata": {},
   "outputs": [],
   "source": [
    "ROOT_PROCESSED_FOLDER = Path(\"lara-haematopoesis-mouse/Data/\")\n",
    "H5_PATH = \"filtered_feature_bc_matrix.h5\"\n",
    "SPACER_PATH = \"crispr_analysis/protospacer_calls_per_cell.csv\"\n",
    "OUT_ROOT_DIR = Path(\"rrx-datascience-dev/torsten/lara-haematopoesis-mouse_processed/\")"
   ]
  },
  {
   "cell_type": "code",
   "execution_count": null,
   "metadata": {},
   "outputs": [],
   "source": [
    "h5_paths = {}\n",
    "spacer_paths = {}\n",
    "for data_folder in DATA_FOLDERS:\n",
    "    h5_path = ROOT_PROCESSED_FOLDER / data_folder / \"outs\" / H5_PATH\n",
    "    h5_path = f\"s3://{h5_path}\"\n",
    "    new_h5_name = f\"{data_folder}_{H5_PATH}\" \n",
    "    h5_out_path = OUT_ROOT_DIR / new_h5_name\n",
    "    h5_out_path = f\"s3://{h5_out_path}\"\n",
    "    h5_paths[h5_path] = h5_out_path\n",
    "\n",
    "    spacer_path = ROOT_PROCESSED_FOLDER / data_folder / \"outs\" / SPACER_PATH\n",
    "    spacer_path = f\"s3://{spacer_path}\"\n",
    "    new_spacer_name = f\"{data_folder}_protospacer_calls_per_cell.csv\"\n",
    "    spacer_out_path = OUT_ROOT_DIR / new_spacer_name\n",
    "    spacer_out_path = f\"s3://{spacer_out_path}\"\n",
    "\n",
    "    spacer_paths[spacer_path] = spacer_out_path"
   ]
  },
  {
   "cell_type": "code",
   "execution_count": null,
   "metadata": {},
   "outputs": [],
   "source": [
    "for in_path, out_path in spacer_paths.items():\n",
    "    ! aws s3 cp {in_path} {out_path}\n"
   ]
  },
  {
   "cell_type": "code",
   "execution_count": null,
   "metadata": {},
   "outputs": [],
   "source": [
    "for in_path, out_path in h5_paths.items():\n",
    "    ! aws s3 cp {in_path} {out_path}"
   ]
  }
 ],
 "metadata": {
  "language_info": {
   "name": "python"
  }
 },
 "nbformat": 4,
 "nbformat_minor": 2
}
