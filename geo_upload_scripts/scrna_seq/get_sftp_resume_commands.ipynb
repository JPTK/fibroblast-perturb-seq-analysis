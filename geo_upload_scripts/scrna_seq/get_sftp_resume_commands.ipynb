{
 "cells": [
  {
   "cell_type": "markdown",
   "metadata": {},
   "source": [
    "Uploading the scRNA seq files was a pain because of various problems around our server.\n",
    "I was forced to use sftp and I need to resume aborted uploads.\n",
    "For this I need to create single put commands that I can paste into the sftp session."
   ]
  },
  {
   "cell_type": "code",
   "execution_count": 1,
   "metadata": {},
   "outputs": [],
   "source": [
    "from pathlib import Path"
   ]
  },
  {
   "cell_type": "code",
   "execution_count": 2,
   "metadata": {},
   "outputs": [],
   "source": [
    "upload_dir = Path(\"/data/torsten/lara-haematopoesis-mouse/tmp_space/scrna_seq\")"
   ]
  },
  {
   "cell_type": "code",
   "execution_count": 3,
   "metadata": {},
   "outputs": [],
   "source": [
    "already_downloaded = [\n",
    "    \"Activated_OP1L_NM_NA_Rep1_filtered_feature_bc_matrix.h5\",\n",
    "\"Activated_OP1L_NM_NA_Rep1_protospacer_calls_per_cell.csv\",\n",
    "\"Activated_OP1L_NM_NA_Rep2_filtered_feature_bc_matrix.h5\",\n",
    "\"Activated_OP1L_NM_NA_Rep2_protospacer_calls_per_cell.csv\",\n",
    "\"Quiescent_OP1L_NM_NA_Rep1_filtered_feature_bc_matrix.h5\",\n",
    "\"Quiescent_OP1L_NM_NA_Rep1_protospacer_calls_per_cell.csv\",\n",
    "\"Quiescent_OP1L_NM_NA_Rep2_filtered_feature_bc_matrix.h5\",\n",
    "\"Quiescent_OP1L_NM_NA_Rep2_protospacer_calls_per_cell.csv\",\n",
    "\"crispr_OP2_IL1b_rep1_S2_R1_001_NextSeq2000.RUN126.221208.fastq.gz\",\n",
    "\"crispr_OP2_IL1b_rep1_S2_R2_001_NextSeq2000.RUN126.221208.fastq.gz\",\n",
    "\"crispr_OP2_IL1b_rep2_S4_R1_001_NextSeq2000.RUN126.221208.fastq.gz\",\n",
    "\"crispr_OP2_IL1b_rep2_S4_R2_001_NextSeq2000.RUN126.221208.fastq.gz\",\n",
    "\"crispr_OP2_TGFb_rep1_S4_R1_001_NextSeq2000.RUN124.221128.fastq.gz\",\n",
    "\"crispr_OP2_TGFb_rep1_S4_R2_001_NextSeq2000.RUN124.221128.fastq.gz\",\n",
    "\"crispr_OP2_TGFb_rep2_S5_R1_001_NextSeq2000.RUN127.221209.fastq.gz\",\n",
    "\"crispr_OP2_TGFb_rep2_S5_R2_001_NextSeq2000.RUN127.221209.fastq.gz\",\n",
    "\"crispr_OP2_rep1_S2_R1_001_NextSeq2000.RUN124.221128.fastq.gz\",\n",
    "\"crispr_OP2_rep1_S2_R2_001_NextSeq2000.RUN124.221128.fastq.gz\",\n",
    "\"crispr_OP2_rep2_S3_R1_001_NextSeq2000.RUN127.221209.fastq.gz\",\n",
    "\"crispr_OP2_rep2_S3_R2_001_NextSeq2000.RUN127.221209.fastq.gz\",\n",
    "\"crispr_OP_TFGb_rep1_S6_R1_001_NextSeq2000.RUN79.20220526.fastq.gz\",\n",
    "\"crispr_OP_TFGb_rep1_S6_R2_001_NextSeq2000.RUN79.20220526.fastq.gz\",\n",
    "\"crispr_OP_TFGb_rep2_S8_R1_001_NextSeq2000.RUN79.20220526.fastq.gz\",\n",
    "\"crispr_OP_TFGb_rep2_S8_R2_001_NextSeq2000.RUN79.20220526.fastq.gz\",\n",
    "\"crispr_OP_rep1_S5_R1_001_NextSeq2000.RUN79.20220526.fastq.gz\",\n",
    "\"crispr_OP_rep1_S5_R2_001_NextSeq2000.RUN79.20220526.fastq.gz\",\n",
    "\"crispr_OP_rep2_S7_R1_001_NextSeq2000.RUN79.20220526.fastq.gz\",\n",
    "\"crispr_OP_rep2_S7_R2_001_NextSeq2000.RUN79.20220526.fastq.gz\",\n",
    "\"exVivo_OP2_IL1b_1_filtered_feature_bc_matrix.h5\",\n",
    "\"exVivo_OP2_IL1b_1_protospacer_calls_per_cell.csv\",\n",
    "\"exVivo_OP2_IL1b_2_filtered_feature_bc_matrix.h5\",\n",
    "\"exVivo_OP2_IL1b_2_protospacer_calls_per_cell.csv\",\n",
    "\"exVivo_OP2_TGFb_1_filtered_feature_bc_matrix.h5\",\n",
    "\"exVivo_OP2_TGFb_1_protospacer_calls_per_cell.csv\",\n",
    "\"exVivo_OP2_TGFb_2_filtered_feature_bc_matrix.h5\",\n",
    "\"exVivo_OP2_TGFb_2_protospacer_calls_per_cell.csv\",\n",
    "\"exVivo_OP2_resting_1_filtered_feature_bc_matrix.h5\",\n",
    "\"exVivo_OP2_resting_1_protospacer_calls_per_cell.csv\",\n",
    "\"exVivo_OP2_resting_2_filtered_feature_bc_matrix.h5\",\n",
    "\"exVivo_OP2_resting_2_protospacer_calls_per_cell.csv\",\n",
    "\"mRNA_OP2_IL1b_rep1_S1_R1_001_NextSeq2000.RUN126.221208.fastq.gz\",\n",
    "\"mRNA_OP2_IL1b_rep1_S1_R2_001_NextSeq2000.RUN126.221208.fastq.gz\",\n",
    "\"mRNA_OP2_IL1b_rep1_S4_R1_001_NextSeq2000.RUN164.20230404.fastq.gz\",\n",
    "\"mRNA_OP2_IL1b_rep1_S4_R1_001_NextSeq2000.RUN176.20230518.fastq.gz\",\n",
    "\"mRNA_OP2_IL1b_rep1_S4_R2_001_NextSeq2000.RUN164.20230404.fastq.gz\",\n",
    "\"mRNA_OP2_IL1b_rep1_S4_R2_001_NextSeq2000.RUN176.20230518.fastq.gz\",\n",
    "\"mRNA_OP2_IL1b_rep2_S3_R1_001_NextSeq2000.RUN126.221208.fastq.gz\",\n",
    "\"mRNA_OP2_IL1b_rep2_S3_R2_001_NextSeq2000.RUN126.221208.fastq.gz\",\n",
    "\"mRNA_OP2_IL1b_rep2_S5_R1_001_NextSeq2000.RUN164.20230404.fastq.gz\",\n",
    "\"mRNA_OP2_IL1b_rep2_S5_R1_001_NextSeq2000.RUN176.20230518.fastq.gz\",\n",
    "\"mRNA_OP2_IL1b_rep2_S5_R2_001_NextSeq2000.RUN164.20230404.fastq.gz\",\n",
    "\"mRNA_OP2_IL1b_rep2_S5_R2_001_NextSeq2000.RUN176.20230518.fastq.gz\",\n",
    "\"mRNA_OP2_TGFb_rep1_S3_R1_001_NextSeq2000.RUN124.221128.fastq.gz\",\n",
    "\"mRNA_OP2_TGFb_rep1_S3_R1_001_NextSeq2000.RUN164.20230404.fastq.gz\",\n",
    "\"mRNA_OP2_TGFb_rep1_S3_R1_001_NextSeq2000.RUN176.20230518.fastq.gz\",\n",
    "\"mRNA_OP2_TGFb_rep1_S3_R2_001_NextSeq2000.RUN124.221128.fastq.gz\",\n",
    "\"mRNA_OP2_TGFb_rep1_S3_R2_001_NextSeq2000.RUN164.20230404.fastq.gz\",\n",
    "\"mRNA_OP2_TGFb_rep1_S3_R2_001_NextSeq2000.RUN176.20230518.fastq.gz\",\n",
    "\"mRNA_OP2_TGFb_rep1_S5_R1_001_NextSeq2000.RUN128.221215.fastq.gz\",\n",
    "\"mRNA_OP2_TGFb_rep1_S5_R2_001_NextSeq2000.RUN128.221215.fastq.gz\",\n",
    "\"mRNA_OP2_TGFb_rep2_S4_R1_001_NextSeq2000.RUN127.221209.fastq.gz\",\n",
    "\"mRNA_OP2_TGFb_rep2_S4_R2_001_NextSeq2000.RUN127.221209.fastq.gz\",\n",
    "\"mRNA_OP2_rep1_S1_R1_001_NextSeq2000.RUN124.221128.fastq.gz\",\n",
    "\"mRNA_OP2_rep1_S1_R1_001_NextSeq2000.RUN127.221209.fastq.gz\",\n",
    "\"mRNA_OP2_rep1_S1_R1_001_NextSeq2000.RUN164.20230404.fastq.gz\",\n",
    "\"mRNA_OP2_rep1_S1_R1_001_NextSeq2000.RUN176.20230518.fastq.gz\",\n",
    "\"mRNA_OP2_rep1_S1_R2_001_NextSeq2000.RUN124.221128.fastq.gz\",\n",
    "\"mRNA_OP2_rep1_S1_R2_001_NextSeq2000.RUN127.221209.fastq.gz\",\n",
    "\"mRNA_OP2_rep1_S1_R2_001_NextSeq2000.RUN164.20230404.fastq.gz\",\n",
    "\"mRNA_OP2_rep1_S1_R2_001_NextSeq2000.RUN176.20230518.fastq.gz\"\n",
    "]"
   ]
  },
  {
   "cell_type": "code",
   "execution_count": 7,
   "metadata": {},
   "outputs": [],
   "source": [
    "upload_commands = []\n",
    "for p in upload_dir.iterdir():\n",
    "    if p.name not in already_downloaded:\n",
    "        upload_commands.append(f\"put {p.name}\")\n",
    "\n",
    "    "
   ]
  },
  {
   "cell_type": "code",
   "execution_count": 9,
   "metadata": {},
   "outputs": [
    {
     "name": "stdout",
     "output_type": "stream",
     "text": [
      "put mRNA_OP_TGFb_rep2_S4_R1_001_NextSeq2000.RUN77.20220521.fastq.gz\n",
      "put mRNA_OP_rep1_S1_R2_001_NextSeq2000.RUN175.20230517.fastq.gz\n",
      "put mRNA_OP_TGFb_rep2_S4_R2_001_NextSeq2000.RUN79.20220526.fastq.gz\n",
      "put mRNA_OP_TGFb_rep1_S2_R1_001_NextSeq2000.RUN79.20220526.fastq.gz\n",
      "put mRNA_OP_rep2_S3_R1_001_NextSeq2000.RUN79.20220526.fastq.gz\n",
      "put mRNA_OP2_rep2_S2_R1_001_NextSeq2000.RUN127.221209.fastq.gz\n",
      "put mRNA_OP2_rep2_S2_R1_001_NextSeq2000.RUN164.20230404.fastq.gz\n",
      "put mRNA_OP_TGFb_rep1_S2_R1_001_NextSeq2000.RUN175.20230517.fastq.gz\n",
      "put mRNA_OP_rep2_S3_R1_001_NextSeq2000.RUN175.20230517.fastq.gz\n",
      "put mRNA_OP_rep1_S1_R2_001_NextSeq2000.RUN79.20220526.fastq.gz\n",
      "put mRNA_OP_rep1_S1_R1_001_NextSeq2000.RUN77.20220521.fastq.gz\n",
      "put mRNA_OP2_rep2_S2_R2_001_NextSeq2000.RUN176.20230518.fastq.gz\n",
      "put mRNA_OP_TGFb_rep2_S4_R2_001_NextSeq2000.RUN175.20230517.fastq.gz\n",
      "put mRNA_OP_TGFb_rep1_S2_R2_001_NextSeq2000.RUN77.20220521.fastq.gz\n",
      "put mRNA_OP_rep2_S3_R2_001_NextSeq2000.RUN77.20220521.fastq.gz\n"
     ]
    }
   ],
   "source": [
    "for cmd in upload_commands[:15]:\n",
    "    print(cmd)"
   ]
  },
  {
   "cell_type": "code",
   "execution_count": 10,
   "metadata": {},
   "outputs": [
    {
     "name": "stdout",
     "output_type": "stream",
     "text": [
      "put mRNA_OP_TGFb_rep2_S4_R2_001_NextSeq2000.RUN77.20220521.fastq.gz\n",
      "put mRNA_OP_rep1_S1_R1_001_NextSeq2000.RUN79.20220526.fastq.gz\n",
      "put mRNA_OP_TGFb_rep1_S2_R2_001_NextSeq2000.RUN79.20220526.fastq.gz\n",
      "put mRNA_OP_TGFb_rep2_S4_R1_001_NextSeq2000.RUN175.20230517.fastq.gz\n",
      "put mRNA_OP_rep2_S3_R2_001_NextSeq2000.RUN79.20220526.fastq.gz\n",
      "put mRNA_OP2_rep2_S2_R1_001_NextSeq2000.RUN176.20230518.fastq.gz\n",
      "put mRNA_OP_TGFb_rep1_S2_R1_001_NextSeq2000.RUN77.20220521.fastq.gz\n",
      "put mRNA_OP_rep2_S3_R1_001_NextSeq2000.RUN77.20220521.fastq.gz\n",
      "put mRNA_OP2_rep2_S2_R2_001_NextSeq2000.RUN164.20230404.fastq.gz\n",
      "put mRNA_OP2_rep2_S2_R2_001_NextSeq2000.RUN127.221209.fastq.gz\n",
      "put mRNA_OP_rep2_S3_R2_001_NextSeq2000.RUN175.20230517.fastq.gz\n",
      "put mRNA_OP_TGFb_rep1_S2_R2_001_NextSeq2000.RUN175.20230517.fastq.gz\n",
      "put mRNA_OP_rep1_S1_R2_001_NextSeq2000.RUN77.20220521.fastq.gz\n",
      "put mRNA_OP_TGFb_rep2_S4_R1_001_NextSeq2000.RUN79.20220526.fastq.gz\n",
      "put mRNA_OP_rep1_S1_R1_001_NextSeq2000.RUN175.20230517.fastq.gz\n"
     ]
    }
   ],
   "source": [
    "for cmd in upload_commands[15:]:\n",
    "    print(cmd)"
   ]
  },
  {
   "cell_type": "code",
   "execution_count": null,
   "metadata": {},
   "outputs": [],
   "source": []
  }
 ],
 "metadata": {
  "kernelspec": {
   "display_name": "Python 3",
   "language": "python",
   "name": "python3"
  },
  "language_info": {
   "codemirror_mode": {
    "name": "ipython",
    "version": 3
   },
   "file_extension": ".py",
   "mimetype": "text/x-python",
   "name": "python",
   "nbconvert_exporter": "python",
   "pygments_lexer": "ipython3",
   "version": "3.10.12"
  }
 },
 "nbformat": 4,
 "nbformat_minor": 2
}
