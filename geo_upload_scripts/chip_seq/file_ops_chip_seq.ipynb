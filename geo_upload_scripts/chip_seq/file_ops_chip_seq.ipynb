{
 "cells": [
  {
   "cell_type": "code",
   "execution_count": 1,
   "metadata": {},
   "outputs": [],
   "source": [
    "from pathlib import Path\n",
    "import pandas as pd\n",
    "import hashlib\n",
    "from tqdm import tqdm"
   ]
  },
  {
   "cell_type": "code",
   "execution_count": 2,
   "metadata": {},
   "outputs": [],
   "source": [
    "def get_md5sum(file_path: Path) -> str:\n",
    "    \"\"\"Compute MD5 checksum for a file.\"\"\"\n",
    "    hash_md5 = hashlib.md5()\n",
    "    with open(file_path, \"rb\") as f:\n",
    "        # 65536\n",
    "        # 4096\n",
    "        for chunk in iter(lambda: f.read(131072), b\"\"):\n",
    "            hash_md5.update(chunk)\n",
    "    return hash_md5.hexdigest()"
   ]
  },
  {
   "cell_type": "code",
   "execution_count": 3,
   "metadata": {},
   "outputs": [],
   "source": [
    "SYMLINK_SCRNASEQ_FOLDER = Path(\n",
    "    \"/data/torsten/lara-haematopoesis-mouse/geo_upload_space/chip_seq\"\n",
    ")\n",
    "SYMLINK_SCRNASEQ_FOLDER.mkdir(parents=True, exist_ok=True)"
   ]
  },
  {
   "cell_type": "markdown",
   "metadata": {},
   "source": [
    "## Create symlinks\n",
    "\n",
    "### RAW data"
   ]
  },
  {
   "cell_type": "code",
   "execution_count": 15,
   "metadata": {},
   "outputs": [],
   "source": [
    "ROOT_RAW_DATA_DIR = Path(\n",
    "    \"/data/buckets/rrx-datascience-dev/torsten/lara-haematopoesis-mouse_chip\"\n",
    ")"
   ]
  },
  {
   "cell_type": "markdown",
   "metadata": {},
   "source": [
    "Laura had already filled in the metadata except for the checksums.\n",
    "So I just need to keep the filenames as they are and compute the checksums."
   ]
  },
  {
   "cell_type": "code",
   "execution_count": 16,
   "metadata": {},
   "outputs": [],
   "source": [
    "fastq_files = []\n",
    "for p in ROOT_RAW_DATA_DIR.rglob(\"*\"):\n",
    "    if p.is_file() and (p.suffixes == [\".fastq\", \".gz\"]):\n",
    "        fastq_files.append(p)"
   ]
  },
  {
   "cell_type": "code",
   "execution_count": 9,
   "metadata": {},
   "outputs": [
    {
     "name": "stderr",
     "output_type": "stream",
     "text": [
      "100%|██████████| 8/8 [03:52<00:00, 29.01s/it]\n"
     ]
    }
   ],
   "source": [
    "raw_md5sums = {}\n",
    "for p in tqdm(fastq_files):\n",
    "    raw_md5sums[p.name] = get_md5sum(p)\n"
   ]
  },
  {
   "cell_type": "code",
   "execution_count": 17,
   "metadata": {},
   "outputs": [
    {
     "name": "stderr",
     "output_type": "stream",
     "text": [
      "100%|██████████| 8/8 [00:00<00:00, 16.95it/s]\n"
     ]
    }
   ],
   "source": [
    "for p in tqdm(fastq_files):\n",
    "    new_file = Path(SYMLINK_SCRNASEQ_FOLDER / p.name)\n",
    "    if not new_file.is_file():\n",
    "        new_file.symlink_to(p)"
   ]
  },
  {
   "cell_type": "markdown",
   "metadata": {},
   "source": [
    "### Processed data"
   ]
  },
  {
   "cell_type": "code",
   "execution_count": 10,
   "metadata": {},
   "outputs": [],
   "source": [
    "ROOT_PROCESSED_DATA_DIR = Path(\n",
    "    \"/data/buckets/rrx-datascience-dev/torsten/lara-haematopoesis-mouse_chip_processed\"\n",
    ")"
   ]
  },
  {
   "cell_type": "code",
   "execution_count": 11,
   "metadata": {},
   "outputs": [],
   "source": [
    "processed_files = []\n",
    "for p in ROOT_PROCESSED_DATA_DIR.rglob(\"*\"):\n",
    "    processed_files.append(p)"
   ]
  },
  {
   "cell_type": "code",
   "execution_count": 12,
   "metadata": {},
   "outputs": [
    {
     "data": {
      "text/plain": [
       "[PosixPath('/data/buckets/rrx-datascience-dev/torsten/lara-haematopoesis-mouse_chip_processed/ChIP-Seq.pf.res_dds_TGFbvsNormal.csv'),\n",
       " PosixPath('/data/buckets/rrx-datascience-dev/torsten/lara-haematopoesis-mouse_chip_processed/Normal_H2azAc_ChIP18_sample.bw'),\n",
       " PosixPath('/data/buckets/rrx-datascience-dev/torsten/lara-haematopoesis-mouse_chip_processed/Normal_H2azAc_ChIP19_sample.bw'),\n",
       " PosixPath('/data/buckets/rrx-datascience-dev/torsten/lara-haematopoesis-mouse_chip_processed/TGFb_H2azAc_ChIP18_sample.bw'),\n",
       " PosixPath('/data/buckets/rrx-datascience-dev/torsten/lara-haematopoesis-mouse_chip_processed/TGFb_H2azAc_ChIP19_sample.bw')]"
      ]
     },
     "execution_count": 12,
     "metadata": {},
     "output_type": "execute_result"
    }
   ],
   "source": [
    "processed_files"
   ]
  },
  {
   "cell_type": "code",
   "execution_count": 13,
   "metadata": {},
   "outputs": [
    {
     "name": "stderr",
     "output_type": "stream",
     "text": [
      "100%|██████████| 5/5 [00:33<00:00,  6.71s/it]\n"
     ]
    }
   ],
   "source": [
    "parsed_md5sums = {}\n",
    "for p in tqdm(processed_files):\n",
    "    parsed_md5sums[p.name] = get_md5sum(p)"
   ]
  },
  {
   "cell_type": "code",
   "execution_count": 18,
   "metadata": {},
   "outputs": [
    {
     "name": "stderr",
     "output_type": "stream",
     "text": [
      "100%|██████████| 5/5 [00:00<00:00, 21.55it/s]\n"
     ]
    }
   ],
   "source": [
    "for p in tqdm(processed_files):\n",
    "    new_file = Path(SYMLINK_SCRNASEQ_FOLDER / p.name)\n",
    "    if not new_file.is_file():\n",
    "        new_file.symlink_to(p)"
   ]
  },
  {
   "cell_type": "markdown",
   "metadata": {},
   "source": [
    "## Prepare GEO metadata table"
   ]
  },
  {
   "cell_type": "markdown",
   "metadata": {},
   "source": [
    "### MD5 check sumns"
   ]
  },
  {
   "cell_type": "code",
   "execution_count": 14,
   "metadata": {},
   "outputs": [],
   "source": [
    "pd.Series(raw_md5sums, name=\"file checksum\").rename_axis(\n",
    "    \"file name\"\n",
    ").to_frame().to_excel(\"MD5_RAW_FILES.xlsx\")\n",
    "pd.Series(parsed_md5sums, name=\"file checksum\").rename_axis(\n",
    "    \"file name\"\n",
    ").to_frame().to_excel(\"MD5_PARSED_FILES.xlsx\")"
   ]
  },
  {
   "cell_type": "code",
   "execution_count": 17,
   "metadata": {},
   "outputs": [
    {
     "data": {
      "text/plain": [
       "{}"
      ]
     },
     "execution_count": 17,
     "metadata": {},
     "output_type": "execute_result"
    }
   ],
   "source": [
    "raw_md5sums"
   ]
  },
  {
   "cell_type": "code",
   "execution_count": null,
   "metadata": {},
   "outputs": [],
   "source": []
  }
 ],
 "metadata": {
  "kernelspec": {
   "display_name": "Python 3 (ipykernel)",
   "language": "python",
   "name": "python3"
  },
  "language_info": {
   "codemirror_mode": {
    "name": "ipython",
    "version": 3
   },
   "file_extension": ".py",
   "mimetype": "text/x-python",
   "name": "python",
   "nbconvert_exporter": "python",
   "pygments_lexer": "ipython3",
   "version": "3.10.12"
  }
 },
 "nbformat": 4,
 "nbformat_minor": 2
}
