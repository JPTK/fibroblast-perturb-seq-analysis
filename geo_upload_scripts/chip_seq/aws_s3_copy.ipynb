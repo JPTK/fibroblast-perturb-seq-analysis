{
 "cells": [
  {
   "cell_type": "markdown",
   "metadata": {},
   "source": [
    "This script moves the chip data I downloaded via a download link provided by Julen/Laura into our s3 bucket.\n",
    "\n",
    "After they have been copied over I deleted the \"locally\" downloaded files. "
   ]
  },
  {
   "cell_type": "code",
   "execution_count": 1,
   "metadata": {},
   "outputs": [],
   "source": [
    "from pathlib import Path"
   ]
  },
  {
   "cell_type": "code",
   "execution_count": 2,
   "metadata": {},
   "outputs": [],
   "source": [
    "LOCAL_PROCESSED_DATA_DIR = Path(\n",
    "    \"/data/torsten/lara-haematopoesis-mouse/Data/Processed data\"\n",
    ")\n",
    "LOCAL_RAW_DATA_DIR = Path(\"/data/torsten/lara-haematopoesis-mouse/Data/Raw data\")\n",
    "S3_RAW_DATA_DIR = \"s3://rrx-datascience-dev/torsten/lara-haematopoesis-mouse_chip\"\n",
    "S3_PROCESSED_DATA_DIR = (\n",
    "    \"s3://rrx-datascience-dev/torsten/lara-haematopoesis-mouse_chip_processed\"\n",
    ")"
   ]
  },
  {
   "cell_type": "markdown",
   "metadata": {},
   "source": [
    "Copy raw data"
   ]
  },
  {
   "cell_type": "code",
   "execution_count": 8,
   "metadata": {},
   "outputs": [],
   "source": [
    "raw_file_dict = {}\n",
    "for p in LOCAL_RAW_DATA_DIR.iterdir():\n",
    "    raw_file_dict[f\"'{p}'\"] = f\"{S3_RAW_DATA_DIR}/{p.name}\""
   ]
  },
  {
   "cell_type": "code",
   "execution_count": 9,
   "metadata": {},
   "outputs": [
    {
     "name": "stdout",
     "output_type": "stream",
     "text": [
      "upload: ../../Data/Raw data/Normal_H2azAc_ChIP19_S19_R1_001.fastq.gz to s3://rrx-datascience-dev/torsten/lara-haematopoesis-mouse_chip/Normal_H2azAc_ChIP19_S19_R1_001.fastq.gz\n",
      "upload: ../../Data/Raw data/Normal_H2azAc_ChIP18_S15_R2_001.fastq.gz to s3://rrx-datascience-dev/torsten/lara-haematopoesis-mouse_chip/Normal_H2azAc_ChIP18_S15_R2_001.fastq.gz\n",
      "upload: ../../Data/Raw data/TGFb_H2azAc_ChIP19_S20_R1_001.fastq.gz to s3://rrx-datascience-dev/torsten/lara-haematopoesis-mouse_chip/TGFb_H2azAc_ChIP19_S20_R1_001.fastq.gz\n",
      "upload: ../../Data/Raw data/TGFb_H2azAc_ChIP18_S16_R1_001.fastq.gz to s3://rrx-datascience-dev/torsten/lara-haematopoesis-mouse_chip/TGFb_H2azAc_ChIP18_S16_R1_001.fastq.gz\n",
      "upload: ../../Data/Raw data/Normal_H2azAc_ChIP19_S19_R2_001.fastq.gz to s3://rrx-datascience-dev/torsten/lara-haematopoesis-mouse_chip/Normal_H2azAc_ChIP19_S19_R2_001.fastq.gz\n",
      "upload: ../../Data/Raw data/Normal_H2azAc_ChIP18_S15_R1_001.fastq.gz to s3://rrx-datascience-dev/torsten/lara-haematopoesis-mouse_chip/Normal_H2azAc_ChIP18_S15_R1_001.fastq.gz\n",
      "upload: ../../Data/Raw data/TGFb_H2azAc_ChIP19_S20_R2_001.fastq.gz to s3://rrx-datascience-dev/torsten/lara-haematopoesis-mouse_chip/TGFb_H2azAc_ChIP19_S20_R2_001.fastq.gz\n",
      "upload: ../../Data/Raw data/TGFb_H2azAc_ChIP18_S16_R2_001.fastq.gz to s3://rrx-datascience-dev/torsten/lara-haematopoesis-mouse_chip/TGFb_H2azAc_ChIP18_S16_R2_001.fastq.gz\n"
     ]
    }
   ],
   "source": [
    "for in_path, out_path in raw_file_dict.items():\n",
    "    ! aws s3 cp {in_path} {out_path}"
   ]
  },
  {
   "cell_type": "markdown",
   "metadata": {},
   "source": [
    "Copy processed data"
   ]
  },
  {
   "cell_type": "code",
   "execution_count": 10,
   "metadata": {},
   "outputs": [],
   "source": [
    "processed_file_dict = {}\n",
    "for p in LOCAL_PROCESSED_DATA_DIR.iterdir():\n",
    "    processed_file_dict[f\"'{p}'\"] = f\"{S3_PROCESSED_DATA_DIR}/{p.name}\""
   ]
  },
  {
   "cell_type": "code",
   "execution_count": 11,
   "metadata": {},
   "outputs": [
    {
     "data": {
      "text/plain": [
       "{\"'/data/torsten/lara-haematopoesis-mouse/Data/Processed data/TGFb_H2azAc_ChIP19_sample.bw'\": 's3://rrx-datascience-dev/torsten/lara-haematopoesis-mouse_chip_processed/TGFb_H2azAc_ChIP19_sample.bw',\n",
       " \"'/data/torsten/lara-haematopoesis-mouse/Data/Processed data/Normal_H2azAc_ChIP19_sample.bw'\": 's3://rrx-datascience-dev/torsten/lara-haematopoesis-mouse_chip_processed/Normal_H2azAc_ChIP19_sample.bw',\n",
       " \"'/data/torsten/lara-haematopoesis-mouse/Data/Processed data/ChIP-Seq.pf.res_dds_TGFbvsNormal.csv'\": 's3://rrx-datascience-dev/torsten/lara-haematopoesis-mouse_chip_processed/ChIP-Seq.pf.res_dds_TGFbvsNormal.csv',\n",
       " \"'/data/torsten/lara-haematopoesis-mouse/Data/Processed data/Normal_H2azAc_ChIP18_sample.bw'\": 's3://rrx-datascience-dev/torsten/lara-haematopoesis-mouse_chip_processed/Normal_H2azAc_ChIP18_sample.bw',\n",
       " \"'/data/torsten/lara-haematopoesis-mouse/Data/Processed data/TGFb_H2azAc_ChIP18_sample.bw'\": 's3://rrx-datascience-dev/torsten/lara-haematopoesis-mouse_chip_processed/TGFb_H2azAc_ChIP18_sample.bw'}"
      ]
     },
     "execution_count": 11,
     "metadata": {},
     "output_type": "execute_result"
    }
   ],
   "source": [
    "processed_file_dict"
   ]
  },
  {
   "cell_type": "code",
   "execution_count": 12,
   "metadata": {},
   "outputs": [
    {
     "name": "stdout",
     "output_type": "stream",
     "text": [
      "upload: ../../Data/Processed data/TGFb_H2azAc_ChIP19_sample.bw to s3://rrx-datascience-dev/torsten/lara-haematopoesis-mouse_chip_processed/TGFb_H2azAc_ChIP19_sample.bw\n",
      "upload: ../../Data/Processed data/Normal_H2azAc_ChIP19_sample.bw to s3://rrx-datascience-dev/torsten/lara-haematopoesis-mouse_chip_processed/Normal_H2azAc_ChIP19_sample.bw\n",
      "upload: ../../Data/Processed data/ChIP-Seq.pf.res_dds_TGFbvsNormal.csv to s3://rrx-datascience-dev/torsten/lara-haematopoesis-mouse_chip_processed/ChIP-Seq.pf.res_dds_TGFbvsNormal.csv\n",
      "upload: ../../Data/Processed data/Normal_H2azAc_ChIP18_sample.bw to s3://rrx-datascience-dev/torsten/lara-haematopoesis-mouse_chip_processed/Normal_H2azAc_ChIP18_sample.bw\n",
      "upload: ../../Data/Processed data/TGFb_H2azAc_ChIP18_sample.bw to s3://rrx-datascience-dev/torsten/lara-haematopoesis-mouse_chip_processed/TGFb_H2azAc_ChIP18_sample.bw\n"
     ]
    }
   ],
   "source": [
    "for in_path, out_path in processed_file_dict.items():\n",
    "    ! aws s3 cp {in_path} {out_path}"
   ]
  },
  {
   "cell_type": "code",
   "execution_count": null,
   "metadata": {},
   "outputs": [],
   "source": []
  }
 ],
 "metadata": {
  "kernelspec": {
   "display_name": "Python 3",
   "language": "python",
   "name": "python3"
  },
  "language_info": {
   "codemirror_mode": {
    "name": "ipython",
    "version": 3
   },
   "file_extension": ".py",
   "mimetype": "text/x-python",
   "name": "python",
   "nbconvert_exporter": "python",
   "pygments_lexer": "ipython3",
   "version": "3.10.12"
  }
 },
 "nbformat": 4,
 "nbformat_minor": 2
}
