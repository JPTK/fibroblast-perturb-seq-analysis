{
 "cells": [
  {
   "cell_type": "markdown",
   "id": "3c249668-0196-4436-93ac-0849c584348e",
   "metadata": {},
   "source": [
    "# This code loads the pilot screen data, assign cells to guides, and create the object Rd1_Data_post_sgRNA_rescue-reseq.h5ad"
   ]
  },
  {
   "cell_type": "code",
   "execution_count": 1,
   "id": "5cf72c12-853e-4786-a685-c7a152762fb9",
   "metadata": {},
   "outputs": [],
   "source": [
    "import pandas as pd\n",
    "from pathlib import Path\n",
    "import json"
   ]
  },
  {
   "cell_type": "code",
   "execution_count": 2,
   "id": "fe97d5f0-80d8-4ef9-8705-e5c3a3b9da7a",
   "metadata": {},
   "outputs": [],
   "source": [
    "import numpy as np\n",
    "import seaborn as sns\n",
    "import matplotlib.pyplot as plt"
   ]
  },
  {
   "cell_type": "code",
   "execution_count": 3,
   "id": "8449ff28-582f-429e-9efa-c81d9cffff7a",
   "metadata": {},
   "outputs": [],
   "source": [
    "import re\n",
    "import dask.dataframe as dd\n",
    "import anndata as ad\n",
    "from anndata import AnnData\n",
    "#import relation_data_lake as rdl\n",
    "import scipy.sparse as sp\n",
    "import scanpy as sc"
   ]
  },
  {
   "cell_type": "code",
   "execution_count": 4,
   "id": "374eb39c-474b-4340-aacd-4b9a23b112ec",
   "metadata": {},
   "outputs": [],
   "source": [
    "sns.set(rc={'figure.figsize':(11.7,8.27)})\n",
    "\n",
    "DIR_DATA_RNA = \"../../data_raw/rna/\"\n",
    "DIR_DATA_GENERATED = Path(\"../../data_generated\")\n",
    "DIR_PLOTS = Path(\"../../plots\")"
   ]
  },
  {
   "cell_type": "code",
   "execution_count": 5,
   "id": "f154f846-42a4-49dc-aa74-984ea722475f",
   "metadata": {},
   "outputs": [],
   "source": [
    "fibro_processed_names = [\n",
    "    'GSM8151750_Activated_OP1L_NM_NA_Rep1',\n",
    "    'GSM8151751_Activated_OP1L_NM_NA_Rep2',\n",
    "    'GSM8151752_Quiescent_OP1L_NM_NA_Rep1',\n",
    "    'GSM8151753_Quiescent_OP1L_NM_NA_Rep2'\n",
    "]"
   ]
  },
  {
   "cell_type": "code",
   "execution_count": 6,
   "id": "11c91c3e-11ac-4211-b5ac-b9206fb493f2",
   "metadata": {},
   "outputs": [],
   "source": [
    "cell2guides = []\n",
    "for fibro_processed_name in fibro_processed_names:\n",
    "    f_path = (DIR_DATA_RNA + fibro_processed_name + '_protospacer_calls_per_cell.csv.gz')\n",
    "    cell2guide = pd.read_csv(f_path, index_col='cell_barcode').drop(columns = ['num_features'])\n",
    "    cell2guide = cell2guide.apply(lambda col: col.str.split('|'))\n",
    "    cell2guide = cell2guide.apply(pd.Series.explode)\n",
    "    cell2guide = cell2guide.pivot(columns='feature_call', values='num_umis').fillna(0)\n",
    "    cell2guide.index = cell2guide.index + '-' + fibro_processed_name.split('_', 1)[1]\n",
    "    #print(cell2guide.columns)\n",
    "    cell2guides.append(cell2guide)"
   ]
  },
  {
   "cell_type": "code",
   "execution_count": 7,
   "id": "d3a63f23-0e1c-455c-9caf-2a15b15f98aa",
   "metadata": {},
   "outputs": [],
   "source": [
    "cell2guides = pd.concat(cell2guides) # .astype(int)\n",
    "cell2guides[pd.isna(cell2guides)] = 0\n",
    "cell2guides = cell2guides.astype(int)\n",
    "counts_matrix = cell2guides.copy()"
   ]
  },
  {
   "cell_type": "markdown",
   "id": "ddf84540-b419-4cd5-8127-41559c38357a",
   "metadata": {},
   "source": [
    "# Step 1: Filter low expressed counts that represent only a small fraction of total counts."
   ]
  },
  {
   "cell_type": "code",
   "execution_count": 8,
   "id": "5d349e81-bacf-4b30-a1b2-3641d1db3914",
   "metadata": {},
   "outputs": [
    {
     "name": "stderr",
     "output_type": "stream",
     "text": [
      "/tmp/ipykernel_8915/234126711.py:10: RuntimeWarning: divide by zero encountered in log10\n",
      "  'log_sgRNA_counts': np.log10( np.ravel(counts_matrix.values.T) )\n"
     ]
    },
    {
     "data": {
      "text/html": [
       "<div>\n",
       "<style scoped>\n",
       "    .dataframe tbody tr th:only-of-type {\n",
       "        vertical-align: middle;\n",
       "    }\n",
       "\n",
       "    .dataframe tbody tr th {\n",
       "        vertical-align: top;\n",
       "    }\n",
       "\n",
       "    .dataframe thead th {\n",
       "        text-align: right;\n",
       "    }\n",
       "</style>\n",
       "<table border=\"1\" class=\"dataframe\">\n",
       "  <thead>\n",
       "    <tr style=\"text-align: right;\">\n",
       "      <th></th>\n",
       "      <th>cell_id</th>\n",
       "      <th>total_counts</th>\n",
       "      <th>log_total_counts</th>\n",
       "      <th>freq</th>\n",
       "      <th>log_freq</th>\n",
       "      <th>sgRNA_counts</th>\n",
       "      <th>log_sgRNA_counts</th>\n",
       "    </tr>\n",
       "  </thead>\n",
       "  <tbody>\n",
       "    <tr>\n",
       "      <th>0</th>\n",
       "      <td>AAACCCAAGAATCGTA-1-Activated_OP1L_NM_NA_Rep1</td>\n",
       "      <td>150</td>\n",
       "      <td>2.176091</td>\n",
       "      <td>0.0</td>\n",
       "      <td>0.0</td>\n",
       "      <td>0</td>\n",
       "      <td>-inf</td>\n",
       "    </tr>\n",
       "    <tr>\n",
       "      <th>1</th>\n",
       "      <td>AAACCCAAGAGGATCC-1-Activated_OP1L_NM_NA_Rep1</td>\n",
       "      <td>240</td>\n",
       "      <td>2.380211</td>\n",
       "      <td>0.0</td>\n",
       "      <td>0.0</td>\n",
       "      <td>0</td>\n",
       "      <td>-inf</td>\n",
       "    </tr>\n",
       "    <tr>\n",
       "      <th>2</th>\n",
       "      <td>AAACCCAAGATAACGT-1-Activated_OP1L_NM_NA_Rep1</td>\n",
       "      <td>197</td>\n",
       "      <td>2.294466</td>\n",
       "      <td>0.0</td>\n",
       "      <td>0.0</td>\n",
       "      <td>0</td>\n",
       "      <td>-inf</td>\n",
       "    </tr>\n",
       "    <tr>\n",
       "      <th>3</th>\n",
       "      <td>AAACCCAAGATCCCAT-1-Activated_OP1L_NM_NA_Rep1</td>\n",
       "      <td>80</td>\n",
       "      <td>1.903090</td>\n",
       "      <td>0.0</td>\n",
       "      <td>0.0</td>\n",
       "      <td>0</td>\n",
       "      <td>-inf</td>\n",
       "    </tr>\n",
       "    <tr>\n",
       "      <th>4</th>\n",
       "      <td>AAACCCACAGATCCAT-1-Activated_OP1L_NM_NA_Rep1</td>\n",
       "      <td>27</td>\n",
       "      <td>1.431364</td>\n",
       "      <td>0.0</td>\n",
       "      <td>0.0</td>\n",
       "      <td>0</td>\n",
       "      <td>-inf</td>\n",
       "    </tr>\n",
       "    <tr>\n",
       "      <th>...</th>\n",
       "      <td>...</td>\n",
       "      <td>...</td>\n",
       "      <td>...</td>\n",
       "      <td>...</td>\n",
       "      <td>...</td>\n",
       "      <td>...</td>\n",
       "      <td>...</td>\n",
       "    </tr>\n",
       "    <tr>\n",
       "      <th>409803</th>\n",
       "      <td>TTTGGTTCATCGGATT-1-Quiescent_OP1L_NM_NA_Rep2</td>\n",
       "      <td>35</td>\n",
       "      <td>1.544068</td>\n",
       "      <td>0.0</td>\n",
       "      <td>0.0</td>\n",
       "      <td>0</td>\n",
       "      <td>-inf</td>\n",
       "    </tr>\n",
       "    <tr>\n",
       "      <th>409804</th>\n",
       "      <td>TTTGGTTGTCTGGTTA-1-Quiescent_OP1L_NM_NA_Rep2</td>\n",
       "      <td>556</td>\n",
       "      <td>2.745075</td>\n",
       "      <td>0.0</td>\n",
       "      <td>0.0</td>\n",
       "      <td>0</td>\n",
       "      <td>-inf</td>\n",
       "    </tr>\n",
       "    <tr>\n",
       "      <th>409805</th>\n",
       "      <td>TTTGTTGCATCAACCA-1-Quiescent_OP1L_NM_NA_Rep2</td>\n",
       "      <td>91</td>\n",
       "      <td>1.959041</td>\n",
       "      <td>0.0</td>\n",
       "      <td>0.0</td>\n",
       "      <td>0</td>\n",
       "      <td>-inf</td>\n",
       "    </tr>\n",
       "    <tr>\n",
       "      <th>409806</th>\n",
       "      <td>TTTGTTGGTCGCAACC-1-Quiescent_OP1L_NM_NA_Rep2</td>\n",
       "      <td>44</td>\n",
       "      <td>1.643453</td>\n",
       "      <td>0.0</td>\n",
       "      <td>0.0</td>\n",
       "      <td>0</td>\n",
       "      <td>-inf</td>\n",
       "    </tr>\n",
       "    <tr>\n",
       "      <th>409807</th>\n",
       "      <td>TTTGTTGTCTACGCGG-1-Quiescent_OP1L_NM_NA_Rep2</td>\n",
       "      <td>117</td>\n",
       "      <td>2.068186</td>\n",
       "      <td>1.0</td>\n",
       "      <td>1.0</td>\n",
       "      <td>117</td>\n",
       "      <td>2.068186</td>\n",
       "    </tr>\n",
       "  </tbody>\n",
       "</table>\n",
       "<p>409808 rows × 7 columns</p>\n",
       "</div>"
      ],
      "text/plain": [
       "                                             cell_id  total_counts  \\\n",
       "0       AAACCCAAGAATCGTA-1-Activated_OP1L_NM_NA_Rep1           150   \n",
       "1       AAACCCAAGAGGATCC-1-Activated_OP1L_NM_NA_Rep1           240   \n",
       "2       AAACCCAAGATAACGT-1-Activated_OP1L_NM_NA_Rep1           197   \n",
       "3       AAACCCAAGATCCCAT-1-Activated_OP1L_NM_NA_Rep1            80   \n",
       "4       AAACCCACAGATCCAT-1-Activated_OP1L_NM_NA_Rep1            27   \n",
       "...                                              ...           ...   \n",
       "409803  TTTGGTTCATCGGATT-1-Quiescent_OP1L_NM_NA_Rep2            35   \n",
       "409804  TTTGGTTGTCTGGTTA-1-Quiescent_OP1L_NM_NA_Rep2           556   \n",
       "409805  TTTGTTGCATCAACCA-1-Quiescent_OP1L_NM_NA_Rep2            91   \n",
       "409806  TTTGTTGGTCGCAACC-1-Quiescent_OP1L_NM_NA_Rep2            44   \n",
       "409807  TTTGTTGTCTACGCGG-1-Quiescent_OP1L_NM_NA_Rep2           117   \n",
       "\n",
       "        log_total_counts  freq  log_freq  sgRNA_counts  log_sgRNA_counts  \n",
       "0               2.176091   0.0       0.0             0              -inf  \n",
       "1               2.380211   0.0       0.0             0              -inf  \n",
       "2               2.294466   0.0       0.0             0              -inf  \n",
       "3               1.903090   0.0       0.0             0              -inf  \n",
       "4               1.431364   0.0       0.0             0              -inf  \n",
       "...                  ...   ...       ...           ...               ...  \n",
       "409803          1.544068   0.0       0.0             0              -inf  \n",
       "409804          2.745075   0.0       0.0             0              -inf  \n",
       "409805          1.959041   0.0       0.0             0              -inf  \n",
       "409806          1.643453   0.0       0.0             0              -inf  \n",
       "409807          2.068186   1.0       1.0           117          2.068186  \n",
       "\n",
       "[409808 rows x 7 columns]"
      ]
     },
     "execution_count": 8,
     "metadata": {},
     "output_type": "execute_result"
    }
   ],
   "source": [
    "freq_matrix = counts_matrix / counts_matrix.sum(axis=1).values[:,None]\n",
    "log_freq_matrix = np.log10( 1 + counts_matrix ) / np.log10(1 + counts_matrix.sum(axis=1).values[:,None] )\n",
    "\n",
    "df = pd.DataFrame(data={'cell_id':np.tile(counts_matrix.index,(1,counts_matrix.shape[1])).flatten(),\n",
    "                        'total_counts': np.tile(counts_matrix.sum(axis=1),(1,counts_matrix.shape[1])).flatten(),\n",
    "                        'log_total_counts': np.log10( np.tile(counts_matrix.sum(axis=1),(1,counts_matrix.shape[1])).flatten() ),\n",
    "                        'freq': np.ravel(freq_matrix.values.T),\n",
    "                        'log_freq': np.ravel(log_freq_matrix.values.T),\n",
    "                        'sgRNA_counts': np.ravel(counts_matrix.values.T),\n",
    "                        'log_sgRNA_counts': np.log10( np.ravel(counts_matrix.values.T) )\n",
    "                       })\n",
    "df"
   ]
  },
  {
   "cell_type": "code",
   "execution_count": 9,
   "id": "352ffbef-9950-456c-9a19-f251ce458290",
   "metadata": {},
   "outputs": [
    {
     "data": {
      "image/png": "[encoded data removed]",
      "text/plain": [
       "<Figure size 1170x827 with 1 Axes>"
      ]
     },
     "metadata": {},
     "output_type": "display_data"
    },
    {
     "data": {
      "text/plain": [
       "<Figure size 1170x827 with 0 Axes>"
      ]
     },
     "metadata": {},
     "output_type": "display_data"
    }
   ],
   "source": [
    "sns.histplot(\n",
    "    data=df[df.log_sgRNA_counts > 0], x = 'freq', y = 'log_sgRNA_counts', bins=50\n",
    ")\n",
    "\n",
    "plt.savefig(DIR_PLOTS / \"sgRNA_density_plot_Rd1\", dpi=400)\n",
    "plt.show()\n",
    "plt.clf()"
   ]
  },
  {
   "cell_type": "code",
   "execution_count": 10,
   "id": "4edeba87-4de5-4383-a9cc-402a9a2aee20",
   "metadata": {},
   "outputs": [],
   "source": [
    "counts_matrix_filtered = counts_matrix.copy()\n",
    "counts_matrix_filtered[(freq_matrix <= 0.175) & (counts_matrix <= 10**1.75)] = 0"
   ]
  },
  {
   "cell_type": "code",
   "execution_count": 11,
   "id": "4bb2c521-87cf-4d75-ba1b-f5fa1ebedbb2",
   "metadata": {},
   "outputs": [
    {
     "name": "stderr",
     "output_type": "stream",
     "text": [
      "/tmp/ipykernel_8915/3084429904.py:10: RuntimeWarning: divide by zero encountered in log10\n",
      "  'log_sgRNA_counts': np.log10( np.ravel(counts_matrix_filtered.values.T) )\n"
     ]
    }
   ],
   "source": [
    "freq_matrix = counts_matrix_filtered / counts_matrix_filtered.sum(axis=1).values[:,None]\n",
    "log_freq_matrix = np.log10( 1 + counts_matrix_filtered ) / np.log10(1 + counts_matrix_filtered.sum(axis=1).values[:,None] )\n",
    "\n",
    "df = pd.DataFrame(data={'cell_id':np.tile(counts_matrix_filtered.index,(1,counts_matrix.shape[1])).flatten(),\n",
    "                        'total_counts': np.tile(counts_matrix_filtered.sum(axis=1),(1,counts_matrix.shape[1])).flatten(),\n",
    "                        'log_total_counts': np.log10( np.tile(counts_matrix_filtered.sum(axis=1),(1,counts_matrix.shape[1])).flatten() ),\n",
    "                        'freq': np.ravel(freq_matrix.values.T),\n",
    "                        'log_freq': np.ravel(log_freq_matrix.values.T),\n",
    "                        'sgRNA_counts': np.ravel(counts_matrix_filtered.values.T),\n",
    "                        'log_sgRNA_counts': np.log10( np.ravel(counts_matrix_filtered.values.T) )\n",
    "                       })"
   ]
  },
  {
   "cell_type": "code",
   "execution_count": 12,
   "id": "e6bc0d94-5c6f-4028-98e7-416d459a3ed5",
   "metadata": {},
   "outputs": [
    {
     "data": {
      "image/png": "[encoded data removed]",
      "text/plain": [
       "<Figure size 1170x827 with 1 Axes>"
      ]
     },
     "metadata": {},
     "output_type": "display_data"
    },
    {
     "data": {
      "text/plain": [
       "<Figure size 1170x827 with 0 Axes>"
      ]
     },
     "metadata": {},
     "output_type": "display_data"
    }
   ],
   "source": [
    "sns.histplot(\n",
    "    data=df[df.log_sgRNA_counts > 0], x = 'freq', y = 'log_sgRNA_counts', bins=50\n",
    ")\n",
    "\n",
    "plt.savefig(DIR_PLOTS / \"sgRNA_density_plot_filtered_Rd1\", dpi=400)\n",
    "plt.show()\n",
    "plt.clf()"
   ]
  },
  {
   "cell_type": "markdown",
   "id": "aa22081d-b950-4558-ab09-4e46119c2e77",
   "metadata": {},
   "source": [
    "# Step 2: Map MOI=2 cells to MOI=1 when sgRNAs correspond to same gene, or with a targeting gene & NTC"
   ]
  },
  {
   "cell_type": "code",
   "execution_count": 13,
   "id": "c96c14f4-6b55-4b55-8201-db676bd79abc",
   "metadata": {},
   "outputs": [],
   "source": [
    "def combine_columns_and_delete(counts_matrix_filtered, col1, col2, new_col):\n",
    "    counts_matrix_filtered[new_col] = counts_matrix_filtered[col1] + counts_matrix_filtered[col2]\n",
    "    counts_matrix_filtered = counts_matrix_filtered.drop(columns=[col1, col2])\n",
    "    return counts_matrix_filtered"
   ]
  },
  {
   "cell_type": "code",
   "execution_count": 14,
   "id": "95fbe7f7-ff1e-40e6-bbe4-f62d37ed9891",
   "metadata": {},
   "outputs": [
    {
     "data": {
      "text/plain": [
       "Index(['Arid2_As_73066', 'Arid2_As_73067', 'Brd7_As_70316', 'Brd9_As_70306',\n",
       "       'Brd9_As_70308', 'Dmap1_As_60922', 'Hcfc1_As_49709', 'Hcfc1_As_49711',\n",
       "       'Ino80_As_46860', 'Kansl1_As_45908', 'Kansl1_As_45909', 'Kat5_Br_45092',\n",
       "       'Kat5_Br_45093', 'Kat8_As_45860', 'Kat8_As_45861', 'NTC_0005',\n",
       "       'NTC_0006', 'Pbrm1_As_28642', 'Pbrm1_As_28643', 'Smad4_1',\n",
       "       'Smarcd1_As_15167', 'Smarcd1_Br_45407', 'Srcap_As_77988', 'TGFbR_3',\n",
       "       'Wdr82_As_3096', 'Wdr82_As_3097', 'Yy1_As_2359', 'Znhit1_As_222'],\n",
       "      dtype='object', name='feature_call')"
      ]
     },
     "execution_count": 14,
     "metadata": {},
     "output_type": "execute_result"
    }
   ],
   "source": [
    "counts_matrix_filtered.columns"
   ]
  },
  {
   "cell_type": "code",
   "execution_count": 16,
   "id": "14ebf14d-4995-4c00-9232-179ba16c5f96",
   "metadata": {},
   "outputs": [
    {
     "ename": "KeyError",
     "evalue": "'Arid2_As_73066'",
     "output_type": "error",
     "traceback": [
      "\u001b[0;31m---------------------------------------------------------------------------\u001b[0m",
      "\u001b[0;31mKeyError\u001b[0m                                  Traceback (most recent call last)",
      "File \u001b[0;32m~/Programs/miniforge3/envs/fibroblasts/lib/python3.11/site-packages/pandas/core/indexes/base.py:3791\u001b[0m, in \u001b[0;36mIndex.get_loc\u001b[0;34m(self, key)\u001b[0m\n\u001b[1;32m   3790\u001b[0m \u001b[39mtry\u001b[39;00m:\n\u001b[0;32m-> 3791\u001b[0m     \u001b[39mreturn\u001b[39;00m \u001b[39mself\u001b[39;49m\u001b[39m.\u001b[39;49m_engine\u001b[39m.\u001b[39;49mget_loc(casted_key)\n\u001b[1;32m   3792\u001b[0m \u001b[39mexcept\u001b[39;00m \u001b[39mKeyError\u001b[39;00m \u001b[39mas\u001b[39;00m err:\n",
      "File \u001b[0;32mindex.pyx:152\u001b[0m, in \u001b[0;36mpandas._libs.index.IndexEngine.get_loc\u001b[0;34m()\u001b[0m\n",
      "File \u001b[0;32mindex.pyx:181\u001b[0m, in \u001b[0;36mpandas._libs.index.IndexEngine.get_loc\u001b[0;34m()\u001b[0m\n",
      "File \u001b[0;32mpandas/_libs/hashtable_class_helper.pxi:7080\u001b[0m, in \u001b[0;36mpandas._libs.hashtable.PyObjectHashTable.get_item\u001b[0;34m()\u001b[0m\n",
      "File \u001b[0;32mpandas/_libs/hashtable_class_helper.pxi:7088\u001b[0m, in \u001b[0;36mpandas._libs.hashtable.PyObjectHashTable.get_item\u001b[0;34m()\u001b[0m\n",
      "\u001b[0;31mKeyError\u001b[0m: 'Arid2_As_73066'",
      "\nThe above exception was the direct cause of the following exception:\n",
      "\u001b[0;31mKeyError\u001b[0m                                  Traceback (most recent call last)",
      "\u001b[1;32m/home/wolfgang/Desktop/fibroblast-perturb-seq-analysis/scripts_python/sc-1-create-objects/CreateAdataObj-pilot.ipynb Cell 18\u001b[0m line \u001b[0;36m1\n\u001b[0;32m----> <a href='vscode-notebook-cell:/home/wolfgang/Desktop/fibroblast-perturb-seq-analysis/scripts_python/sc-1-create-objects/CreateAdataObj-pilot.ipynb#X23sZmlsZQ%3D%3D?line=0'>1</a>\u001b[0m counts_matrix_filtered \u001b[39m=\u001b[39m combine_columns_and_delete(counts_matrix_filtered,\u001b[39m'\u001b[39;49m\u001b[39mArid2_As_73066\u001b[39;49m\u001b[39m'\u001b[39;49m, \u001b[39m'\u001b[39;49m\u001b[39mArid2_As_73067\u001b[39;49m\u001b[39m'\u001b[39;49m,\u001b[39m'\u001b[39;49m\u001b[39mArid2\u001b[39;49m\u001b[39m'\u001b[39;49m)\n\u001b[1;32m      <a href='vscode-notebook-cell:/home/wolfgang/Desktop/fibroblast-perturb-seq-analysis/scripts_python/sc-1-create-objects/CreateAdataObj-pilot.ipynb#X23sZmlsZQ%3D%3D?line=1'>2</a>\u001b[0m counts_matrix_filtered \u001b[39m=\u001b[39m combine_columns_and_delete(counts_matrix_filtered,\u001b[39m'\u001b[39m\u001b[39mBrd7_As_70314\u001b[39m\u001b[39m'\u001b[39m, \u001b[39m'\u001b[39m\u001b[39mBrd7_As_70316\u001b[39m\u001b[39m'\u001b[39m,\u001b[39m'\u001b[39m\u001b[39mBrd7\u001b[39m\u001b[39m'\u001b[39m)\n\u001b[1;32m      <a href='vscode-notebook-cell:/home/wolfgang/Desktop/fibroblast-perturb-seq-analysis/scripts_python/sc-1-create-objects/CreateAdataObj-pilot.ipynb#X23sZmlsZQ%3D%3D?line=2'>3</a>\u001b[0m counts_matrix_filtered \u001b[39m=\u001b[39m combine_columns_and_delete(counts_matrix_filtered,\u001b[39m'\u001b[39m\u001b[39mBrd9_As_70306\u001b[39m\u001b[39m'\u001b[39m, \u001b[39m'\u001b[39m\u001b[39mBrd9_As_70308\u001b[39m\u001b[39m'\u001b[39m,\u001b[39m'\u001b[39m\u001b[39mBrd9\u001b[39m\u001b[39m'\u001b[39m)\n",
      "\u001b[1;32m/home/wolfgang/Desktop/fibroblast-perturb-seq-analysis/scripts_python/sc-1-create-objects/CreateAdataObj-pilot.ipynb Cell 18\u001b[0m line \u001b[0;36m2\n\u001b[1;32m      <a href='vscode-notebook-cell:/home/wolfgang/Desktop/fibroblast-perturb-seq-analysis/scripts_python/sc-1-create-objects/CreateAdataObj-pilot.ipynb#X23sZmlsZQ%3D%3D?line=0'>1</a>\u001b[0m \u001b[39mdef\u001b[39;00m \u001b[39mcombine_columns_and_delete\u001b[39m(counts_matrix_filtered, col1, col2, new_col):\n\u001b[0;32m----> <a href='vscode-notebook-cell:/home/wolfgang/Desktop/fibroblast-perturb-seq-analysis/scripts_python/sc-1-create-objects/CreateAdataObj-pilot.ipynb#X23sZmlsZQ%3D%3D?line=1'>2</a>\u001b[0m     counts_matrix_filtered[new_col] \u001b[39m=\u001b[39m counts_matrix_filtered[col1] \u001b[39m+\u001b[39m counts_matrix_filtered[col2]\n\u001b[1;32m      <a href='vscode-notebook-cell:/home/wolfgang/Desktop/fibroblast-perturb-seq-analysis/scripts_python/sc-1-create-objects/CreateAdataObj-pilot.ipynb#X23sZmlsZQ%3D%3D?line=2'>3</a>\u001b[0m     counts_matrix_filtered \u001b[39m=\u001b[39m counts_matrix_filtered\u001b[39m.\u001b[39mdrop(columns\u001b[39m=\u001b[39m[col1, col2])\n\u001b[1;32m      <a href='vscode-notebook-cell:/home/wolfgang/Desktop/fibroblast-perturb-seq-analysis/scripts_python/sc-1-create-objects/CreateAdataObj-pilot.ipynb#X23sZmlsZQ%3D%3D?line=3'>4</a>\u001b[0m     \u001b[39mreturn\u001b[39;00m counts_matrix_filtered\n",
      "File \u001b[0;32m~/Programs/miniforge3/envs/fibroblasts/lib/python3.11/site-packages/pandas/core/frame.py:3893\u001b[0m, in \u001b[0;36mDataFrame.__getitem__\u001b[0;34m(self, key)\u001b[0m\n\u001b[1;32m   3891\u001b[0m \u001b[39mif\u001b[39;00m \u001b[39mself\u001b[39m\u001b[39m.\u001b[39mcolumns\u001b[39m.\u001b[39mnlevels \u001b[39m>\u001b[39m \u001b[39m1\u001b[39m:\n\u001b[1;32m   3892\u001b[0m     \u001b[39mreturn\u001b[39;00m \u001b[39mself\u001b[39m\u001b[39m.\u001b[39m_getitem_multilevel(key)\n\u001b[0;32m-> 3893\u001b[0m indexer \u001b[39m=\u001b[39m \u001b[39mself\u001b[39;49m\u001b[39m.\u001b[39;49mcolumns\u001b[39m.\u001b[39;49mget_loc(key)\n\u001b[1;32m   3894\u001b[0m \u001b[39mif\u001b[39;00m is_integer(indexer):\n\u001b[1;32m   3895\u001b[0m     indexer \u001b[39m=\u001b[39m [indexer]\n",
      "File \u001b[0;32m~/Programs/miniforge3/envs/fibroblasts/lib/python3.11/site-packages/pandas/core/indexes/base.py:3798\u001b[0m, in \u001b[0;36mIndex.get_loc\u001b[0;34m(self, key)\u001b[0m\n\u001b[1;32m   3793\u001b[0m     \u001b[39mif\u001b[39;00m \u001b[39misinstance\u001b[39m(casted_key, \u001b[39mslice\u001b[39m) \u001b[39mor\u001b[39;00m (\n\u001b[1;32m   3794\u001b[0m         \u001b[39misinstance\u001b[39m(casted_key, abc\u001b[39m.\u001b[39mIterable)\n\u001b[1;32m   3795\u001b[0m         \u001b[39mand\u001b[39;00m \u001b[39many\u001b[39m(\u001b[39misinstance\u001b[39m(x, \u001b[39mslice\u001b[39m) \u001b[39mfor\u001b[39;00m x \u001b[39min\u001b[39;00m casted_key)\n\u001b[1;32m   3796\u001b[0m     ):\n\u001b[1;32m   3797\u001b[0m         \u001b[39mraise\u001b[39;00m InvalidIndexError(key)\n\u001b[0;32m-> 3798\u001b[0m     \u001b[39mraise\u001b[39;00m \u001b[39mKeyError\u001b[39;00m(key) \u001b[39mfrom\u001b[39;00m \u001b[39merr\u001b[39;00m\n\u001b[1;32m   3799\u001b[0m \u001b[39mexcept\u001b[39;00m \u001b[39mTypeError\u001b[39;00m:\n\u001b[1;32m   3800\u001b[0m     \u001b[39m# If we have a listlike key, _check_indexing_error will raise\u001b[39;00m\n\u001b[1;32m   3801\u001b[0m     \u001b[39m#  InvalidIndexError. Otherwise we fall through and re-raise\u001b[39;00m\n\u001b[1;32m   3802\u001b[0m     \u001b[39m#  the TypeError.\u001b[39;00m\n\u001b[1;32m   3803\u001b[0m     \u001b[39mself\u001b[39m\u001b[39m.\u001b[39m_check_indexing_error(key)\n",
      "\u001b[0;31mKeyError\u001b[0m: 'Arid2_As_73066'"
     ]
    }
   ],
   "source": [
    "counts_matrix_filtered = combine_columns_and_delete(counts_matrix_filtered,'NTC_0005','NTC_0006','non-targeting')\n",
    "counts_matrix_filtered = combine_columns_and_delete(counts_matrix_filtered,'Arid2_As_73066', 'Arid2_As_73067','Arid2')\n",
    "counts_matrix_filtered = combine_columns_and_delete(counts_matrix_filtered,'Brd9_As_70306','Brd9_As_70308','Brd9')\n",
    "counts_matrix_filtered = combine_columns_and_delete(counts_matrix_filtered,'Hcfc1_As_49709', 'Hcfc1_As_49711','Hcfc1')\n",
    "counts_matrix_filtered = combine_columns_and_delete(counts_matrix_filtered,'Kansl1_As_45908', 'Kansl1_As_45909','Kansl1')\n",
    "counts_matrix_filtered = combine_columns_and_delete(counts_matrix_filtered,'Kat5_Br_45092','Kat5_Br_45093','Kat5')\n",
    "counts_matrix_filtered = combine_columns_and_delete(counts_matrix_filtered,'Kat8_As_45860', 'Kat8_As_45861','Kat8')\n",
    "counts_matrix_filtered = combine_columns_and_delete(counts_matrix_filtered, 'Pbrm1_As_28642','Pbrm1_As_28643','Pbrm1')\n",
    "counts_matrix_filtered = combine_columns_and_delete(counts_matrix_filtered,'Smarcd1_As_15167', 'Smarcd1_Br_45407','Smarcd1')\n",
    "counts_matrix_filtered = combine_columns_and_delete(counts_matrix_filtered,'Wdr82_As_3096', 'Wdr82_As_3097','Wdr82')\n",
    "\n",
    "counts_matrix_filtered = combine_columns_and_delete(counts_matrix_filtered,'Smad4_1','Smad4_3','Smad4')\n",
    "\n",
    "counts_matrix_filtered = combine_columns_and_delete(counts_matrix_filtered,'TGFbR_1','TGFbR_3','Tgfbr1')\n",
    "\n",
    "counts_matrix_filtered = counts_matrix_filtered.rename(columns={\"Brd7_As_70316\":\"Brd7\",\"Dmap1_As_60922\":\"Dmap1\",\n",
    "                                                                \"Ino80_As_46860\":\"Ino80\", \"Srcap_As_77988\":\"Srcap\",\n",
    "                                                                \"Yy1_As_2359\":\"Yy1\",\"Znhit1_As_222\":\"Znhit1\"})"
   ]
  },
  {
   "cell_type": "code",
   "execution_count": null,
   "id": "85f2a3d7-7a57-410e-9162-e11dba8ba7fd",
   "metadata": {},
   "outputs": [],
   "source": [
    "counts_matrix_filtered.columns"
   ]
  },
  {
   "cell_type": "code",
   "execution_count": null,
   "id": "bc355587-5ef6-4239-b6a8-f37908d33083",
   "metadata": {},
   "outputs": [],
   "source": [
    "counts_matrix_filtered.sum()"
   ]
  },
  {
   "cell_type": "code",
   "execution_count": null,
   "id": "57a2f886-c1a2-4bca-90fd-72af3ba80ba5",
   "metadata": {},
   "outputs": [],
   "source": [
    "MOI1_cells = counts_matrix_filtered[(counts_matrix_filtered >0).apply(lambda row: sum(row)==1, axis=1)]\n",
    "MOI2_cells = counts_matrix_filtered[(counts_matrix_filtered >0).apply(lambda row: sum(row)==2, axis=1)]"
   ]
  },
  {
   "cell_type": "code",
   "execution_count": null,
   "id": "697a7b54-bdb6-4041-b79e-659b05ed2416",
   "metadata": {},
   "outputs": [],
   "source": [
    "MOI2_cells['non-targeting'] = 0\n",
    "MOI1_rescue = MOI2_cells[(MOI2_cells >0).apply(lambda row: sum(row)==1, axis=1)]"
   ]
  },
  {
   "cell_type": "code",
   "execution_count": null,
   "id": "fb999d60-5d9e-43cd-855c-9411f9aedb0e",
   "metadata": {},
   "outputs": [],
   "source": [
    "cells_to_keep = pd.concat([MOI1_cells, MOI1_rescue])\n",
    "cells_to_keep['target_max'] = cells_to_keep.idxmax(axis=1)\n",
    "cells_to_keep = cells_to_keep.drop(columns=counts_matrix_filtered.columns.unique())\n"
   ]
  },
  {
   "cell_type": "code",
   "execution_count": null,
   "id": "e7add9e1-f2a6-4ec0-9718-29bf0fa1a222",
   "metadata": {},
   "outputs": [],
   "source": [
    "cells_to_keep"
   ]
  },
  {
   "cell_type": "code",
   "execution_count": null,
   "id": "56e207ef-3d5f-4709-a8b3-f0e19eed0e5d",
   "metadata": {},
   "outputs": [],
   "source": [
    "cells_to_keep['cell_barcode_corrected'] = 0\n",
    "cells_to_keep['cell_barcode_old'] = cells_to_keep.index\n",
    "cells_to_keep['condition'] = 'NaN'\n",
    "cells_to_keep['batch'] = 'NaN'\n",
    "for cb in cells_to_keep.index:\n",
    "    if 'Quiescent' in cb:\n",
    "        state1 = 'Resting'\n",
    "        if 'Rep1' in cb:\n",
    "            state2 = 'Rep1-Resting'\n",
    "        else:\n",
    "            state2 = 'Rep2-Resting'\n",
    "    if 'Activated' in cb:\n",
    "        state1 = 'Tgfb1'\n",
    "        if 'Rep1' in cb:\n",
    "            state2 = 'Rep3-Tgfb1'\n",
    "        else:\n",
    "            state2 = 'Rep4-Tgfb1'\n",
    "    cells_to_keep['condition'].loc[cb] = state1\n",
    "    cells_to_keep['batch'].loc[cb] = state2\n",
    "    cells_to_keep['cell_barcode_corrected'].loc[cb] = cb[0:16] + '-' + state2\n",
    "    cells_to_keep['cell_barcode_old'].loc[cb] = cb[0:18]\n",
    "cells_to_keep = cells_to_keep.set_index('cell_barcode_corrected')\n"
   ]
  },
  {
   "cell_type": "code",
   "execution_count": null,
   "id": "30bbd213-e039-4318-9b94-a4c86b6658ba",
   "metadata": {},
   "outputs": [],
   "source": [
    "cells_to_keep.batch.unique()"
   ]
  },
  {
   "cell_type": "code",
   "execution_count": null,
   "id": "b418777a-ece9-4dff-b502-28ac104c537e",
   "metadata": {},
   "outputs": [],
   "source": [
    "cells_to_keep.groupby(['batch']).count()"
   ]
  },
  {
   "cell_type": "markdown",
   "id": "ed68a7a5-ac61-4547-ba50-89bf73aaf306",
   "metadata": {},
   "source": [
    "# Step 3: Select cells and merge into adata object"
   ]
  },
  {
   "cell_type": "code",
   "execution_count": 17,
   "id": "1ccf91cd-bab3-4066-8336-47c45b0d6a9c",
   "metadata": {},
   "outputs": [
    {
     "name": "stderr",
     "output_type": "stream",
     "text": [
      "/home/wolfgang/Programs/miniforge3/envs/fibroblasts/lib/python3.11/site-packages/anndata/_core/anndata.py:1908: UserWarning: Variable names are not unique. To make them unique, call `.var_names_make_unique`.\n",
      "  utils.warn_names_duplicates(\"var\")\n",
      "/home/wolfgang/Programs/miniforge3/envs/fibroblasts/lib/python3.11/site-packages/anndata/_core/anndata.py:1908: UserWarning: Variable names are not unique. To make them unique, call `.var_names_make_unique`.\n",
      "  utils.warn_names_duplicates(\"var\")\n",
      "/home/wolfgang/Programs/miniforge3/envs/fibroblasts/lib/python3.11/site-packages/anndata/_core/anndata.py:1908: UserWarning: Variable names are not unique. To make them unique, call `.var_names_make_unique`.\n",
      "  utils.warn_names_duplicates(\"var\")\n",
      "/home/wolfgang/Programs/miniforge3/envs/fibroblasts/lib/python3.11/site-packages/anndata/_core/anndata.py:1908: UserWarning: Variable names are not unique. To make them unique, call `.var_names_make_unique`.\n",
      "  utils.warn_names_duplicates(\"var\")\n",
      "/home/wolfgang/Programs/miniforge3/envs/fibroblasts/lib/python3.11/site-packages/anndata/_core/anndata.py:1908: UserWarning: Variable names are not unique. To make them unique, call `.var_names_make_unique`.\n",
      "  utils.warn_names_duplicates(\"var\")\n",
      "/home/wolfgang/Programs/miniforge3/envs/fibroblasts/lib/python3.11/site-packages/anndata/_core/anndata.py:1908: UserWarning: Variable names are not unique. To make them unique, call `.var_names_make_unique`.\n",
      "  utils.warn_names_duplicates(\"var\")\n",
      "/home/wolfgang/Programs/miniforge3/envs/fibroblasts/lib/python3.11/site-packages/anndata/_core/anndata.py:1908: UserWarning: Variable names are not unique. To make them unique, call `.var_names_make_unique`.\n",
      "  utils.warn_names_duplicates(\"var\")\n",
      "/home/wolfgang/Programs/miniforge3/envs/fibroblasts/lib/python3.11/site-packages/anndata/_core/anndata.py:1908: UserWarning: Variable names are not unique. To make them unique, call `.var_names_make_unique`.\n",
      "  utils.warn_names_duplicates(\"var\")\n"
     ]
    }
   ],
   "source": [
    "adata_rep1 = sc.read_10x_h5(DIR_DATA_RNA / 'Quiescent_OP1L_NM_NA_Rep1/outs/filtered_feature_bc_matrix.h5')\n",
    "adata_rep2 = sc.read_10x_h5(DIR_DATA_RNA / 'Quiescent_OP1L_NM_NA_Rep2/outs/filtered_feature_bc_matrix.h5')\n",
    "adata_rep3 = sc.read_10x_h5(DIR_DATA_RNA / 'Activated_OP1L_NM_NA_Rep1/outs/filtered_feature_bc_matrix.h5')\n",
    "adata_rep4 = sc.read_10x_h5(DIR_DATA_RNA / 'Activated_OP1L_NM_NA_Rep2/outs/filtered_feature_bc_matrix.h5')"
   ]
  },
  {
   "cell_type": "code",
   "execution_count": null,
   "id": "781b923d-ac5d-48b4-9320-c3501d9e8ad8",
   "metadata": {},
   "outputs": [],
   "source": [
    "batch_adatas = {'Rep1-Resting':adata_rep1,\n",
    "                'Rep2-Resting':adata_rep2,\n",
    "                'Rep3-Tgfb1':adata_rep3,\n",
    "                'Rep4-Tgfb1':adata_rep4\n",
    "               }"
   ]
  },
  {
   "cell_type": "code",
   "execution_count": null,
   "id": "d423633d-9f95-4327-8089-0104f04499a0",
   "metadata": {},
   "outputs": [],
   "source": [
    "for ii in batch_adatas.keys():\n",
    "    print(ii)\n",
    "    adata_tmp = batch_adatas[ii].copy()\n",
    "    cells_to_keep_tmp = cells_to_keep[cells_to_keep.batch == ii].copy()\n",
    "    cells_to_keep_tmp.reset_index(inplace=True)\n",
    "    cells_to_keep_tmp.set_index('cell_barcode_old', inplace=True)\n",
    "    adata_tmp = adata_tmp[adata_tmp.obs.index.isin(cells_to_keep_tmp.index),:]\n",
    "    adata_tmp.obs = pd.concat([adata_tmp.obs, cells_to_keep_tmp], axis=1).reindex(adata_tmp.obs.index)\n",
    "    adata_tmp.obs.set_index('cell_barcode_corrected', inplace=True)\n",
    "    adata_tmp.var.index.name = 'original_name'\n",
    "    adata_tmp.obs_names_make_unique()\n",
    "    adata_tmp.var_names_make_unique()\n",
    "    batch_adatas[ii] = adata_tmp"
   ]
  },
  {
   "cell_type": "code",
   "execution_count": null,
   "id": "40e756d0-a2e8-48af-a071-d80cad652210",
   "metadata": {},
   "outputs": [],
   "source": [
    "adata = ad.concat(batch_adatas, axis = 0)"
   ]
  },
  {
   "cell_type": "code",
   "execution_count": null,
   "id": "ad0c9f98-cace-4a7d-aa18-2bae74dbad3f",
   "metadata": {},
   "outputs": [],
   "source": [
    "adata.var['mt'] = adata.var_names.str.startswith('mt-')  # annotate the group of mitochondrial genes as 'mt'"
   ]
  },
  {
   "cell_type": "code",
   "execution_count": null,
   "id": "58fa3488-44c6-41a7-bb8f-3e7a8a60e7ed",
   "metadata": {},
   "outputs": [],
   "source": [
    "sc.pp.calculate_qc_metrics(adata, qc_vars=['mt'], percent_top=None, log1p=False, inplace=True)"
   ]
  },
  {
   "cell_type": "code",
   "execution_count": null,
   "id": "a0b267dd-502f-4c69-a075-e01968c206d0",
   "metadata": {},
   "outputs": [],
   "source": [
    "adata.obs['target'] = adata.obs['target_max']\n",
    "adata.obs.drop(columns=['target_max'], inplace=True)"
   ]
  },
  {
   "cell_type": "code",
   "execution_count": null,
   "id": "6349fb73-f2d1-491e-ac88-7fa7a36ab280",
   "metadata": {},
   "outputs": [],
   "source": [
    "adata.obs.groupby(['condition','batch']).count()"
   ]
  },
  {
   "cell_type": "code",
   "execution_count": null,
   "id": "212ccd04-e2d4-4c9d-b944-6f5812ebe281",
   "metadata": {},
   "outputs": [],
   "source": []
  },
  {
   "cell_type": "code",
   "execution_count": null,
   "id": "c82b1c75-5273-4a4a-b5b7-16623492fcf2",
   "metadata": {},
   "outputs": [],
   "source": [
    "adata.write_h5ad(DIR_DATA_GENERATED / 'Rd1_Data_post_sgRNA_rescue-reseq.h5ad.gzip', compression='gzip')"
   ]
  },
  {
   "cell_type": "code",
   "execution_count": null,
   "id": "eb48ef6a-4de2-4b74-b4da-f1d833beb8d8",
   "metadata": {},
   "outputs": [],
   "source": []
  }
 ],
 "metadata": {
  "kernelspec": {
   "display_name": "fibroblasts",
   "language": "python",
   "name": "python3"
  },
  "language_info": {
   "codemirror_mode": {
    "name": "ipython",
    "version": 3
   },
   "file_extension": ".py",
   "mimetype": "text/x-python",
   "name": "python",
   "nbconvert_exporter": "python",
   "pygments_lexer": "ipython3",
   "version": "3.11.7"
  }
 },
 "nbformat": 4,
 "nbformat_minor": 5
}
